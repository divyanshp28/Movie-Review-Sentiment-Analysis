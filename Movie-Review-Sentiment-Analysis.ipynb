{
 "cells": [
  {
   "cell_type": "code",
   "execution_count": 1,
   "id": "2b19a6eb",
   "metadata": {
    "_cell_guid": "b1076dfc-b9ad-4769-8c92-a6c4dae69d19",
    "_uuid": "8f2839f25d086af736a60e9eeb907d3b93b6e0e5",
    "execution": {
     "iopub.execute_input": "2023-10-16T12:31:25.080100Z",
     "iopub.status.busy": "2023-10-16T12:31:25.079627Z",
     "iopub.status.idle": "2023-10-16T12:31:25.971504Z",
     "shell.execute_reply": "2023-10-16T12:31:25.970264Z"
    },
    "papermill": {
     "duration": 0.908106,
     "end_time": "2023-10-16T12:31:25.974198",
     "exception": false,
     "start_time": "2023-10-16T12:31:25.066092",
     "status": "completed"
    },
    "tags": []
   },
   "outputs": [
    {
     "name": "stdout",
     "output_type": "stream",
     "text": [
      "/kaggle/input/sentiment-prediction-on-movie-reviews-term-break1/sample (1).csv\n",
      "/kaggle/input/sentiment-prediction-on-movie-reviews-term-break1/test.csv (1)/test.csv\n",
      "/kaggle/input/sentiment-prediction-on-movie-reviews-term-break1/movies.csv (1)/movies.csv\n",
      "/kaggle/input/sentiment-prediction-on-movie-reviews-term-break1/train.csv (1)/train.csv\n"
     ]
    }
   ],
   "source": [
    "# This Python 3 environment comes with many helpful analytics libraries installed\n",
    "# It is defined by the kaggle/python Docker image: https://github.com/kaggle/docker-python\n",
    "# For example, here's several helpful packages to load\n",
    "\n",
    "import numpy as np # linear algebra\n",
    "import pandas as pd # data processing, CSV file I/O (e.g. pd.read_csv)\n",
    "\n",
    "# Input data files are available in the read-only \"../input/\" directory\n",
    "# For example, running this (by clicking run or pressing Shift+Enter) will list all files under the input directory\n",
    "\n",
    "import os\n",
    "for dirname, _, filenames in os.walk('/kaggle/input'):\n",
    "    for filename in filenames:\n",
    "        print(os.path.join(dirname, filename))\n",
    "\n",
    "# You can write up to 20GB to the current directory (/kaggle/working/) that gets preserved as output when you create a version using \"Save & Run All\" \n",
    "# You can also write temporary files to /kaggle/temp/, but they won't be saved outside of the current session"
   ]
  },
  {
   "cell_type": "markdown",
   "id": "543db826",
   "metadata": {
    "papermill": {
     "duration": 0.010787,
     "end_time": "2023-10-16T12:31:25.996536",
     "exception": false,
     "start_time": "2023-10-16T12:31:25.985749",
     "status": "completed"
    },
    "tags": []
   },
   "source": [
    "# **Imports**"
   ]
  },
  {
   "cell_type": "code",
   "execution_count": 2,
   "id": "4322c2fe",
   "metadata": {
    "execution": {
     "iopub.execute_input": "2023-10-16T12:31:26.020738Z",
     "iopub.status.busy": "2023-10-16T12:31:26.020170Z",
     "iopub.status.idle": "2023-10-16T12:31:27.738097Z",
     "shell.execute_reply": "2023-10-16T12:31:27.736921Z"
    },
    "papermill": {
     "duration": 1.732846,
     "end_time": "2023-10-16T12:31:27.740482",
     "exception": false,
     "start_time": "2023-10-16T12:31:26.007636",
     "status": "completed"
    },
    "tags": []
   },
   "outputs": [],
   "source": [
    "import pandas as pd\n",
    "import numpy as np\n",
    "import matplotlib.pyplot as plt\n",
    "import seaborn as sns"
   ]
  },
  {
   "cell_type": "code",
   "execution_count": 3,
   "id": "366dc7ac",
   "metadata": {
    "execution": {
     "iopub.execute_input": "2023-10-16T12:31:27.765289Z",
     "iopub.status.busy": "2023-10-16T12:31:27.764886Z",
     "iopub.status.idle": "2023-10-16T12:31:28.546469Z",
     "shell.execute_reply": "2023-10-16T12:31:28.545591Z"
    },
    "papermill": {
     "duration": 0.796856,
     "end_time": "2023-10-16T12:31:28.549189",
     "exception": false,
     "start_time": "2023-10-16T12:31:27.752333",
     "status": "completed"
    },
    "tags": []
   },
   "outputs": [],
   "source": [
    "#SKLEARN IMPORTS\n",
    "from sklearn.impute import SimpleImputer\n",
    "from sklearn.preprocessing import LabelEncoder\n",
    "from sklearn.model_selection import train_test_split, GridSearchCV\n",
    "from sklearn.preprocessing import OrdinalEncoder\n",
    "from sklearn.dummy import DummyClassifier\n",
    "from sklearn.linear_model import LogisticRegression\n",
    "from sklearn.ensemble import RandomForestClassifier\n",
    "from sklearn.svm import SVC\n",
    "from sklearn.metrics import f1_score\n",
    "from sklearn.feature_extraction.text import CountVectorizer, TfidfVectorizer\n",
    "from scipy.sparse import hstack"
   ]
  },
  {
   "cell_type": "markdown",
   "id": "9a1328fc",
   "metadata": {
    "papermill": {
     "duration": 0.014025,
     "end_time": "2023-10-16T12:31:28.580570",
     "exception": false,
     "start_time": "2023-10-16T12:31:28.566545",
     "status": "completed"
    },
    "tags": []
   },
   "source": [
    "# **1. Loading the data**"
   ]
  },
  {
   "cell_type": "markdown",
   "id": "375ccd41",
   "metadata": {
    "papermill": {
     "duration": 0.01097,
     "end_time": "2023-10-16T12:31:28.603339",
     "exception": false,
     "start_time": "2023-10-16T12:31:28.592369",
     "status": "completed"
    },
    "tags": []
   },
   "source": [
    "# *movies.csv*"
   ]
  },
  {
   "cell_type": "code",
   "execution_count": 4,
   "id": "1c994b33",
   "metadata": {
    "execution": {
     "iopub.execute_input": "2023-10-16T12:31:28.630725Z",
     "iopub.status.busy": "2023-10-16T12:31:28.629640Z",
     "iopub.status.idle": "2023-10-16T12:31:29.598657Z",
     "shell.execute_reply": "2023-10-16T12:31:29.597587Z"
    },
    "papermill": {
     "duration": 0.98366,
     "end_time": "2023-10-16T12:31:29.600866",
     "exception": false,
     "start_time": "2023-10-16T12:31:28.617206",
     "status": "completed"
    },
    "tags": []
   },
   "outputs": [
    {
     "data": {
      "text/plain": [
       "(143258, 14)"
      ]
     },
     "execution_count": 4,
     "metadata": {},
     "output_type": "execute_result"
    }
   ],
   "source": [
    "#LOADING THE DATA\n",
    "movie_data_path = '/kaggle/input/sentiment-prediction-on-movie-reviews-term-break1/movies.csv (1)/movies.csv'\n",
    "movie_data = pd.read_csv(movie_data_path)\n",
    "movie_data.shape"
   ]
  },
  {
   "cell_type": "code",
   "execution_count": 5,
   "id": "a978f473",
   "metadata": {
    "execution": {
     "iopub.execute_input": "2023-10-16T12:31:29.626672Z",
     "iopub.status.busy": "2023-10-16T12:31:29.626307Z",
     "iopub.status.idle": "2023-10-16T12:31:29.655117Z",
     "shell.execute_reply": "2023-10-16T12:31:29.653974Z"
    },
    "papermill": {
     "duration": 0.043754,
     "end_time": "2023-10-16T12:31:29.657287",
     "exception": false,
     "start_time": "2023-10-16T12:31:29.613533",
     "status": "completed"
    },
    "tags": []
   },
   "outputs": [
    {
     "data": {
      "text/html": [
       "<div>\n",
       "<style scoped>\n",
       "    .dataframe tbody tr th:only-of-type {\n",
       "        vertical-align: middle;\n",
       "    }\n",
       "\n",
       "    .dataframe tbody tr th {\n",
       "        vertical-align: top;\n",
       "    }\n",
       "\n",
       "    .dataframe thead th {\n",
       "        text-align: right;\n",
       "    }\n",
       "</style>\n",
       "<table border=\"1\" class=\"dataframe\">\n",
       "  <thead>\n",
       "    <tr style=\"text-align: right;\">\n",
       "      <th></th>\n",
       "      <th>movieid</th>\n",
       "      <th>title</th>\n",
       "      <th>audienceScore</th>\n",
       "      <th>rating</th>\n",
       "      <th>ratingContents</th>\n",
       "      <th>releaseDateTheaters</th>\n",
       "      <th>releaseDateStreaming</th>\n",
       "      <th>runtimeMinutes</th>\n",
       "      <th>genre</th>\n",
       "      <th>originalLanguage</th>\n",
       "      <th>director</th>\n",
       "      <th>boxOffice</th>\n",
       "      <th>distributor</th>\n",
       "      <th>soundType</th>\n",
       "    </tr>\n",
       "  </thead>\n",
       "  <tbody>\n",
       "    <tr>\n",
       "      <th>0</th>\n",
       "      <td>han_solo_heroic_myth_wonder_woman</td>\n",
       "      <td>Han Solo Heroic Myth Wonder Woman</td>\n",
       "      <td>50.0</td>\n",
       "      <td>NaN</td>\n",
       "      <td>NaN</td>\n",
       "      <td>NaN</td>\n",
       "      <td>2018-08-25</td>\n",
       "      <td>75.0</td>\n",
       "      <td>Comedy, Horror, Sci-fi</td>\n",
       "      <td>English</td>\n",
       "      <td>Claude Nicolet</td>\n",
       "      <td>NaN</td>\n",
       "      <td>NaN</td>\n",
       "      <td>NaN</td>\n",
       "    </tr>\n",
       "    <tr>\n",
       "      <th>1</th>\n",
       "      <td>voyage_tyler_durden_han_solo_stardust</td>\n",
       "      <td>Voyage Tyler Durden Han Solo Stardust</td>\n",
       "      <td>NaN</td>\n",
       "      <td>NaN</td>\n",
       "      <td>NaN</td>\n",
       "      <td>NaN</td>\n",
       "      <td>2020-02-11</td>\n",
       "      <td>114.0</td>\n",
       "      <td>Drama</td>\n",
       "      <td>English</td>\n",
       "      <td>Nathan Haack</td>\n",
       "      <td>NaN</td>\n",
       "      <td>NaN</td>\n",
       "      <td>NaN</td>\n",
       "    </tr>\n",
       "    <tr>\n",
       "      <th>2</th>\n",
       "      <td>norman_bates_ferris_bueller_hermione_granger_v...</td>\n",
       "      <td>Norman Bates Ferris Bueller Hermione Granger V...</td>\n",
       "      <td>43.0</td>\n",
       "      <td>NaN</td>\n",
       "      <td>NaN</td>\n",
       "      <td>NaN</td>\n",
       "      <td>NaN</td>\n",
       "      <td>120.0</td>\n",
       "      <td>Drama</td>\n",
       "      <td>Korean</td>\n",
       "      <td>Theresa Smith</td>\n",
       "      <td>NaN</td>\n",
       "      <td>NaN</td>\n",
       "      <td>NaN</td>\n",
       "    </tr>\n",
       "    <tr>\n",
       "      <th>3</th>\n",
       "      <td>elegant_hermione_granger</td>\n",
       "      <td>Elegant Hermione Granger</td>\n",
       "      <td>60.0</td>\n",
       "      <td>NaN</td>\n",
       "      <td>NaN</td>\n",
       "      <td>NaN</td>\n",
       "      <td>2020-10-23</td>\n",
       "      <td>90.0</td>\n",
       "      <td>Action, Mystery &amp; thriller</td>\n",
       "      <td>English</td>\n",
       "      <td>Donald Lewis</td>\n",
       "      <td>NaN</td>\n",
       "      <td>NaN</td>\n",
       "      <td>NaN</td>\n",
       "    </tr>\n",
       "    <tr>\n",
       "      <th>4</th>\n",
       "      <td>adventure_rocky_balboa</td>\n",
       "      <td>Adventure Rocky Balboa</td>\n",
       "      <td>70.0</td>\n",
       "      <td>NaN</td>\n",
       "      <td>NaN</td>\n",
       "      <td>NaN</td>\n",
       "      <td>2017-03-27</td>\n",
       "      <td>80.0</td>\n",
       "      <td>Fantasy, Adventure, Animation</td>\n",
       "      <td>English</td>\n",
       "      <td>Howard Simms</td>\n",
       "      <td>NaN</td>\n",
       "      <td>NaN</td>\n",
       "      <td>NaN</td>\n",
       "    </tr>\n",
       "  </tbody>\n",
       "</table>\n",
       "</div>"
      ],
      "text/plain": [
       "                                             movieid  \\\n",
       "0                  han_solo_heroic_myth_wonder_woman   \n",
       "1              voyage_tyler_durden_han_solo_stardust   \n",
       "2  norman_bates_ferris_bueller_hermione_granger_v...   \n",
       "3                           elegant_hermione_granger   \n",
       "4                             adventure_rocky_balboa   \n",
       "\n",
       "                                               title  audienceScore rating  \\\n",
       "0                  Han Solo Heroic Myth Wonder Woman           50.0    NaN   \n",
       "1              Voyage Tyler Durden Han Solo Stardust            NaN    NaN   \n",
       "2  Norman Bates Ferris Bueller Hermione Granger V...           43.0    NaN   \n",
       "3                           Elegant Hermione Granger           60.0    NaN   \n",
       "4                             Adventure Rocky Balboa           70.0    NaN   \n",
       "\n",
       "  ratingContents releaseDateTheaters releaseDateStreaming  runtimeMinutes  \\\n",
       "0            NaN                 NaN           2018-08-25            75.0   \n",
       "1            NaN                 NaN           2020-02-11           114.0   \n",
       "2            NaN                 NaN                  NaN           120.0   \n",
       "3            NaN                 NaN           2020-10-23            90.0   \n",
       "4            NaN                 NaN           2017-03-27            80.0   \n",
       "\n",
       "                           genre originalLanguage        director boxOffice  \\\n",
       "0         Comedy, Horror, Sci-fi          English  Claude Nicolet       NaN   \n",
       "1                          Drama          English    Nathan Haack       NaN   \n",
       "2                          Drama           Korean   Theresa Smith       NaN   \n",
       "3     Action, Mystery & thriller          English    Donald Lewis       NaN   \n",
       "4  Fantasy, Adventure, Animation          English    Howard Simms       NaN   \n",
       "\n",
       "  distributor soundType  \n",
       "0         NaN       NaN  \n",
       "1         NaN       NaN  \n",
       "2         NaN       NaN  \n",
       "3         NaN       NaN  \n",
       "4         NaN       NaN  "
      ]
     },
     "execution_count": 5,
     "metadata": {},
     "output_type": "execute_result"
    }
   ],
   "source": [
    "#EXAMINING THE DATA\n",
    "movie_data.head()"
   ]
  },
  {
   "cell_type": "markdown",
   "id": "e257c7ab",
   "metadata": {
    "papermill": {
     "duration": 0.011429,
     "end_time": "2023-10-16T12:31:29.680451",
     "exception": false,
     "start_time": "2023-10-16T12:31:29.669022",
     "status": "completed"
    },
    "tags": []
   },
   "source": [
    "# *train.csv*"
   ]
  },
  {
   "cell_type": "code",
   "execution_count": 6,
   "id": "2ebe624e",
   "metadata": {
    "execution": {
     "iopub.execute_input": "2023-10-16T12:31:29.706707Z",
     "iopub.status.busy": "2023-10-16T12:31:29.705498Z",
     "iopub.status.idle": "2023-10-16T12:31:30.676266Z",
     "shell.execute_reply": "2023-10-16T12:31:30.675339Z"
    },
    "papermill": {
     "duration": 0.986109,
     "end_time": "2023-10-16T12:31:30.678360",
     "exception": false,
     "start_time": "2023-10-16T12:31:29.692251",
     "status": "completed"
    },
    "tags": []
   },
   "outputs": [
    {
     "data": {
      "text/plain": [
       "(162758, 5)"
      ]
     },
     "execution_count": 6,
     "metadata": {},
     "output_type": "execute_result"
    }
   ],
   "source": [
    "#LOADING & CHECKING SHAPE OF train.csv\n",
    "train_data_path='/kaggle/input/sentiment-prediction-on-movie-reviews-term-break1/train.csv (1)/train.csv'\n",
    "train_data=pd.read_csv(train_data_path)\n",
    "train_data.shape"
   ]
  },
  {
   "cell_type": "code",
   "execution_count": 7,
   "id": "ee7c28f1",
   "metadata": {
    "execution": {
     "iopub.execute_input": "2023-10-16T12:31:30.704928Z",
     "iopub.status.busy": "2023-10-16T12:31:30.704529Z",
     "iopub.status.idle": "2023-10-16T12:31:30.715272Z",
     "shell.execute_reply": "2023-10-16T12:31:30.714161Z"
    },
    "papermill": {
     "duration": 0.026391,
     "end_time": "2023-10-16T12:31:30.717404",
     "exception": false,
     "start_time": "2023-10-16T12:31:30.691013",
     "status": "completed"
    },
    "tags": []
   },
   "outputs": [
    {
     "data": {
      "text/html": [
       "<div>\n",
       "<style scoped>\n",
       "    .dataframe tbody tr th:only-of-type {\n",
       "        vertical-align: middle;\n",
       "    }\n",
       "\n",
       "    .dataframe tbody tr th {\n",
       "        vertical-align: top;\n",
       "    }\n",
       "\n",
       "    .dataframe thead th {\n",
       "        text-align: right;\n",
       "    }\n",
       "</style>\n",
       "<table border=\"1\" class=\"dataframe\">\n",
       "  <thead>\n",
       "    <tr style=\"text-align: right;\">\n",
       "      <th></th>\n",
       "      <th>movieid</th>\n",
       "      <th>reviewerName</th>\n",
       "      <th>isFrequentReviewer</th>\n",
       "      <th>reviewText</th>\n",
       "      <th>sentiment</th>\n",
       "    </tr>\n",
       "  </thead>\n",
       "  <tbody>\n",
       "    <tr>\n",
       "      <th>0</th>\n",
       "      <td>marvelous_pirate</td>\n",
       "      <td>Benjamin Henry</td>\n",
       "      <td>False</td>\n",
       "      <td>Henry Selick’s first movie since 2009’s Corali...</td>\n",
       "      <td>POSITIVE</td>\n",
       "    </tr>\n",
       "    <tr>\n",
       "      <th>1</th>\n",
       "      <td>tony_montana_frodo_baggins_v_rocky_balboa</td>\n",
       "      <td>Felicia Lopez</td>\n",
       "      <td>False</td>\n",
       "      <td>With a cast that reads like the Vogue Oscar pa...</td>\n",
       "      <td>NEGATIVE</td>\n",
       "    </tr>\n",
       "    <tr>\n",
       "      <th>2</th>\n",
       "      <td>darth_vader_katniss_everdeen_sorcerer_donnie_d...</td>\n",
       "      <td>Mr. Charles Burgess</td>\n",
       "      <td>True</td>\n",
       "      <td>Creed II does not give us anything but another...</td>\n",
       "      <td>POSITIVE</td>\n",
       "    </tr>\n",
       "    <tr>\n",
       "      <th>3</th>\n",
       "      <td>lara_croft_glimmer</td>\n",
       "      <td>Ryan Barrett</td>\n",
       "      <td>False</td>\n",
       "      <td>I know what you're thinking, but this is no Li...</td>\n",
       "      <td>POSITIVE</td>\n",
       "    </tr>\n",
       "    <tr>\n",
       "      <th>4</th>\n",
       "      <td>jason_bourne_surreal_the_terminator_indiana_jones</td>\n",
       "      <td>Alexander Glover</td>\n",
       "      <td>False</td>\n",
       "      <td>Director Fernando Meirelles tells the story wi...</td>\n",
       "      <td>POSITIVE</td>\n",
       "    </tr>\n",
       "  </tbody>\n",
       "</table>\n",
       "</div>"
      ],
      "text/plain": [
       "                                             movieid         reviewerName  \\\n",
       "0                                   marvelous_pirate       Benjamin Henry   \n",
       "1          tony_montana_frodo_baggins_v_rocky_balboa        Felicia Lopez   \n",
       "2  darth_vader_katniss_everdeen_sorcerer_donnie_d...  Mr. Charles Burgess   \n",
       "3                                 lara_croft_glimmer         Ryan Barrett   \n",
       "4  jason_bourne_surreal_the_terminator_indiana_jones     Alexander Glover   \n",
       "\n",
       "   isFrequentReviewer                                         reviewText  \\\n",
       "0               False  Henry Selick’s first movie since 2009’s Corali...   \n",
       "1               False  With a cast that reads like the Vogue Oscar pa...   \n",
       "2                True  Creed II does not give us anything but another...   \n",
       "3               False  I know what you're thinking, but this is no Li...   \n",
       "4               False  Director Fernando Meirelles tells the story wi...   \n",
       "\n",
       "  sentiment  \n",
       "0  POSITIVE  \n",
       "1  NEGATIVE  \n",
       "2  POSITIVE  \n",
       "3  POSITIVE  \n",
       "4  POSITIVE  "
      ]
     },
     "execution_count": 7,
     "metadata": {},
     "output_type": "execute_result"
    }
   ],
   "source": [
    "train_data.head()"
   ]
  },
  {
   "cell_type": "markdown",
   "id": "4075e8d9",
   "metadata": {
    "papermill": {
     "duration": 0.011892,
     "end_time": "2023-10-16T12:31:30.802280",
     "exception": false,
     "start_time": "2023-10-16T12:31:30.790388",
     "status": "completed"
    },
    "tags": []
   },
   "source": [
    "# *JOINING movies.csv AND train.csv*"
   ]
  },
  {
   "cell_type": "code",
   "execution_count": 8,
   "id": "7c4542f3",
   "metadata": {
    "execution": {
     "iopub.execute_input": "2023-10-16T12:31:30.829068Z",
     "iopub.status.busy": "2023-10-16T12:31:30.827847Z",
     "iopub.status.idle": "2023-10-16T12:31:31.265365Z",
     "shell.execute_reply": "2023-10-16T12:31:31.264481Z"
    },
    "papermill": {
     "duration": 0.453195,
     "end_time": "2023-10-16T12:31:31.267628",
     "exception": false,
     "start_time": "2023-10-16T12:31:30.814433",
     "status": "completed"
    },
    "tags": []
   },
   "outputs": [
    {
     "data": {
      "text/plain": [
       "(525277, 18)"
      ]
     },
     "execution_count": 8,
     "metadata": {},
     "output_type": "execute_result"
    }
   ],
   "source": [
    "#JOINING train.csv AND movies.csv\n",
    "joined_data = pd.merge(movie_data,train_data)\n",
    "joined_data.shape"
   ]
  },
  {
   "cell_type": "code",
   "execution_count": 9,
   "id": "aa560417",
   "metadata": {
    "execution": {
     "iopub.execute_input": "2023-10-16T12:31:31.294729Z",
     "iopub.status.busy": "2023-10-16T12:31:31.294387Z",
     "iopub.status.idle": "2023-10-16T12:31:31.313775Z",
     "shell.execute_reply": "2023-10-16T12:31:31.312728Z"
    },
    "papermill": {
     "duration": 0.035323,
     "end_time": "2023-10-16T12:31:31.315971",
     "exception": false,
     "start_time": "2023-10-16T12:31:31.280648",
     "status": "completed"
    },
    "tags": []
   },
   "outputs": [
    {
     "data": {
      "text/html": [
       "<div>\n",
       "<style scoped>\n",
       "    .dataframe tbody tr th:only-of-type {\n",
       "        vertical-align: middle;\n",
       "    }\n",
       "\n",
       "    .dataframe tbody tr th {\n",
       "        vertical-align: top;\n",
       "    }\n",
       "\n",
       "    .dataframe thead th {\n",
       "        text-align: right;\n",
       "    }\n",
       "</style>\n",
       "<table border=\"1\" class=\"dataframe\">\n",
       "  <thead>\n",
       "    <tr style=\"text-align: right;\">\n",
       "      <th></th>\n",
       "      <th>movieid</th>\n",
       "      <th>title</th>\n",
       "      <th>audienceScore</th>\n",
       "      <th>rating</th>\n",
       "      <th>ratingContents</th>\n",
       "      <th>releaseDateTheaters</th>\n",
       "      <th>releaseDateStreaming</th>\n",
       "      <th>runtimeMinutes</th>\n",
       "      <th>genre</th>\n",
       "      <th>originalLanguage</th>\n",
       "      <th>director</th>\n",
       "      <th>boxOffice</th>\n",
       "      <th>distributor</th>\n",
       "      <th>soundType</th>\n",
       "      <th>reviewerName</th>\n",
       "      <th>isFrequentReviewer</th>\n",
       "      <th>reviewText</th>\n",
       "      <th>sentiment</th>\n",
       "    </tr>\n",
       "  </thead>\n",
       "  <tbody>\n",
       "    <tr>\n",
       "      <th>0</th>\n",
       "      <td>james_bond_courageous</td>\n",
       "      <td>James Bond Courageous</td>\n",
       "      <td>65.0</td>\n",
       "      <td>PG-13</td>\n",
       "      <td>['Injury Images', 'Brief Drug Use', 'Thematic ...</td>\n",
       "      <td>2018-06-01</td>\n",
       "      <td>2018-08-21</td>\n",
       "      <td>120.0</td>\n",
       "      <td>Adventure, Drama, Romance</td>\n",
       "      <td>English</td>\n",
       "      <td>Leroy Fernandes</td>\n",
       "      <td>$31.4M</td>\n",
       "      <td>STX Films</td>\n",
       "      <td>NaN</td>\n",
       "      <td>Karen Hamilton</td>\n",
       "      <td>False</td>\n",
       "      <td>This is nowhere near the level of other great ...</td>\n",
       "      <td>POSITIVE</td>\n",
       "    </tr>\n",
       "    <tr>\n",
       "      <th>1</th>\n",
       "      <td>james_bond_courageous</td>\n",
       "      <td>James Bond Courageous</td>\n",
       "      <td>65.0</td>\n",
       "      <td>PG-13</td>\n",
       "      <td>['Injury Images', 'Brief Drug Use', 'Thematic ...</td>\n",
       "      <td>2018-06-01</td>\n",
       "      <td>2018-08-21</td>\n",
       "      <td>120.0</td>\n",
       "      <td>Adventure, Drama, Romance</td>\n",
       "      <td>English</td>\n",
       "      <td>Leroy Fernandes</td>\n",
       "      <td>$31.4M</td>\n",
       "      <td>STX Films</td>\n",
       "      <td>NaN</td>\n",
       "      <td>Jessica Best</td>\n",
       "      <td>False</td>\n",
       "      <td>If you're feeling adventurous and looking for ...</td>\n",
       "      <td>POSITIVE</td>\n",
       "    </tr>\n",
       "    <tr>\n",
       "      <th>2</th>\n",
       "      <td>james_bond_courageous</td>\n",
       "      <td>James Bond Courageous</td>\n",
       "      <td>65.0</td>\n",
       "      <td>PG-13</td>\n",
       "      <td>['Injury Images', 'Brief Drug Use', 'Thematic ...</td>\n",
       "      <td>2018-06-01</td>\n",
       "      <td>2018-08-21</td>\n",
       "      <td>120.0</td>\n",
       "      <td>Adventure, Drama, Romance</td>\n",
       "      <td>English</td>\n",
       "      <td>Leroy Fernandes</td>\n",
       "      <td>$31.4M</td>\n",
       "      <td>STX Films</td>\n",
       "      <td>NaN</td>\n",
       "      <td>Rebekah Gomez</td>\n",
       "      <td>False</td>\n",
       "      <td>Mercifully, Vincent Cassel provides a strong l...</td>\n",
       "      <td>POSITIVE</td>\n",
       "    </tr>\n",
       "    <tr>\n",
       "      <th>3</th>\n",
       "      <td>james_bond_courageous</td>\n",
       "      <td>James Bond Courageous</td>\n",
       "      <td>65.0</td>\n",
       "      <td>PG-13</td>\n",
       "      <td>['Injury Images', 'Brief Drug Use', 'Thematic ...</td>\n",
       "      <td>2018-06-01</td>\n",
       "      <td>2018-08-21</td>\n",
       "      <td>120.0</td>\n",
       "      <td>Adventure, Drama, Romance</td>\n",
       "      <td>English</td>\n",
       "      <td>Leroy Fernandes</td>\n",
       "      <td>$31.4M</td>\n",
       "      <td>STX Films</td>\n",
       "      <td>NaN</td>\n",
       "      <td>Paul Sullivan</td>\n",
       "      <td>False</td>\n",
       "      <td>Like the storm that destroys the best laid pla...</td>\n",
       "      <td>POSITIVE</td>\n",
       "    </tr>\n",
       "    <tr>\n",
       "      <th>4</th>\n",
       "      <td>james_bond_courageous</td>\n",
       "      <td>James Bond Courageous</td>\n",
       "      <td>65.0</td>\n",
       "      <td>PG-13</td>\n",
       "      <td>['Injury Images', 'Brief Drug Use', 'Thematic ...</td>\n",
       "      <td>2018-06-01</td>\n",
       "      <td>2018-08-21</td>\n",
       "      <td>120.0</td>\n",
       "      <td>Adventure, Drama, Romance</td>\n",
       "      <td>English</td>\n",
       "      <td>Leroy Fernandes</td>\n",
       "      <td>$31.4M</td>\n",
       "      <td>STX Films</td>\n",
       "      <td>NaN</td>\n",
       "      <td>Stacey Malone</td>\n",
       "      <td>True</td>\n",
       "      <td>Less a proper coming-of-age movie than a posh ...</td>\n",
       "      <td>NEGATIVE</td>\n",
       "    </tr>\n",
       "  </tbody>\n",
       "</table>\n",
       "</div>"
      ],
      "text/plain": [
       "                 movieid                  title  audienceScore rating  \\\n",
       "0  james_bond_courageous  James Bond Courageous           65.0  PG-13   \n",
       "1  james_bond_courageous  James Bond Courageous           65.0  PG-13   \n",
       "2  james_bond_courageous  James Bond Courageous           65.0  PG-13   \n",
       "3  james_bond_courageous  James Bond Courageous           65.0  PG-13   \n",
       "4  james_bond_courageous  James Bond Courageous           65.0  PG-13   \n",
       "\n",
       "                                      ratingContents releaseDateTheaters  \\\n",
       "0  ['Injury Images', 'Brief Drug Use', 'Thematic ...          2018-06-01   \n",
       "1  ['Injury Images', 'Brief Drug Use', 'Thematic ...          2018-06-01   \n",
       "2  ['Injury Images', 'Brief Drug Use', 'Thematic ...          2018-06-01   \n",
       "3  ['Injury Images', 'Brief Drug Use', 'Thematic ...          2018-06-01   \n",
       "4  ['Injury Images', 'Brief Drug Use', 'Thematic ...          2018-06-01   \n",
       "\n",
       "  releaseDateStreaming  runtimeMinutes                      genre  \\\n",
       "0           2018-08-21           120.0  Adventure, Drama, Romance   \n",
       "1           2018-08-21           120.0  Adventure, Drama, Romance   \n",
       "2           2018-08-21           120.0  Adventure, Drama, Romance   \n",
       "3           2018-08-21           120.0  Adventure, Drama, Romance   \n",
       "4           2018-08-21           120.0  Adventure, Drama, Romance   \n",
       "\n",
       "  originalLanguage         director boxOffice distributor soundType  \\\n",
       "0          English  Leroy Fernandes    $31.4M   STX Films       NaN   \n",
       "1          English  Leroy Fernandes    $31.4M   STX Films       NaN   \n",
       "2          English  Leroy Fernandes    $31.4M   STX Films       NaN   \n",
       "3          English  Leroy Fernandes    $31.4M   STX Films       NaN   \n",
       "4          English  Leroy Fernandes    $31.4M   STX Films       NaN   \n",
       "\n",
       "     reviewerName  isFrequentReviewer  \\\n",
       "0  Karen Hamilton               False   \n",
       "1    Jessica Best               False   \n",
       "2   Rebekah Gomez               False   \n",
       "3   Paul Sullivan               False   \n",
       "4   Stacey Malone                True   \n",
       "\n",
       "                                          reviewText sentiment  \n",
       "0  This is nowhere near the level of other great ...  POSITIVE  \n",
       "1  If you're feeling adventurous and looking for ...  POSITIVE  \n",
       "2  Mercifully, Vincent Cassel provides a strong l...  POSITIVE  \n",
       "3  Like the storm that destroys the best laid pla...  POSITIVE  \n",
       "4  Less a proper coming-of-age movie than a posh ...  NEGATIVE  "
      ]
     },
     "execution_count": 9,
     "metadata": {},
     "output_type": "execute_result"
    }
   ],
   "source": [
    "#JOINED DATA\n",
    "joined_data.head()"
   ]
  },
  {
   "cell_type": "markdown",
   "id": "cb3e31f4",
   "metadata": {
    "papermill": {
     "duration": 0.012932,
     "end_time": "2023-10-16T12:31:31.341544",
     "exception": false,
     "start_time": "2023-10-16T12:31:31.328612",
     "status": "completed"
    },
    "tags": []
   },
   "source": [
    "***PRINTING FEATURES AND LABEL***"
   ]
  },
  {
   "cell_type": "code",
   "execution_count": 10,
   "id": "79f0e2c5",
   "metadata": {
    "execution": {
     "iopub.execute_input": "2023-10-16T12:31:31.369441Z",
     "iopub.status.busy": "2023-10-16T12:31:31.369066Z",
     "iopub.status.idle": "2023-10-16T12:31:31.374854Z",
     "shell.execute_reply": "2023-10-16T12:31:31.373679Z"
    },
    "papermill": {
     "duration": 0.022884,
     "end_time": "2023-10-16T12:31:31.377514",
     "exception": false,
     "start_time": "2023-10-16T12:31:31.354630",
     "status": "completed"
    },
    "tags": []
   },
   "outputs": [
    {
     "name": "stdout",
     "output_type": "stream",
     "text": [
      "Features:  ['movieid' 'title' 'audienceScore' 'rating' 'ratingContents'\n",
      " 'releaseDateTheaters' 'releaseDateStreaming' 'runtimeMinutes' 'genre'\n",
      " 'originalLanguage' 'director' 'boxOffice' 'distributor' 'soundType'\n",
      " 'reviewerName' 'isFrequentReviewer' 'reviewText']\n",
      "Label:  sentiment\n"
     ]
    }
   ],
   "source": [
    "#FEATURES AND LABELS \n",
    "features_list = joined_data.columns[:-1].values\n",
    "label = joined_data.columns[-1]\n",
    "\n",
    "print(\"Features: \" , features_list)\n",
    "print(\"Label: \" , label)"
   ]
  },
  {
   "cell_type": "code",
   "execution_count": 11,
   "id": "9e63727a",
   "metadata": {
    "execution": {
     "iopub.execute_input": "2023-10-16T12:31:31.405288Z",
     "iopub.status.busy": "2023-10-16T12:31:31.404944Z",
     "iopub.status.idle": "2023-10-16T12:31:31.444817Z",
     "shell.execute_reply": "2023-10-16T12:31:31.443732Z"
    },
    "papermill": {
     "duration": 0.056311,
     "end_time": "2023-10-16T12:31:31.446749",
     "exception": false,
     "start_time": "2023-10-16T12:31:31.390438",
     "status": "completed"
    },
    "tags": []
   },
   "outputs": [
    {
     "data": {
      "text/plain": [
       "sentiment\n",
       "POSITIVE    350583\n",
       "NEGATIVE    174694\n",
       "Name: count, dtype: int64"
      ]
     },
     "execution_count": 11,
     "metadata": {},
     "output_type": "execute_result"
    }
   ],
   "source": [
    "#NUMBER OF POSITIVE AND NEGATIVE REVIEWS\n",
    "joined_data['sentiment'].value_counts()"
   ]
  },
  {
   "cell_type": "code",
   "execution_count": 12,
   "id": "288c87dd",
   "metadata": {
    "execution": {
     "iopub.execute_input": "2023-10-16T12:31:31.474774Z",
     "iopub.status.busy": "2023-10-16T12:31:31.474377Z",
     "iopub.status.idle": "2023-10-16T12:31:31.479802Z",
     "shell.execute_reply": "2023-10-16T12:31:31.478630Z"
    },
    "papermill": {
     "duration": 0.022003,
     "end_time": "2023-10-16T12:31:31.481939",
     "exception": false,
     "start_time": "2023-10-16T12:31:31.459936",
     "status": "completed"
    },
    "tags": []
   },
   "outputs": [],
   "source": [
    "# joined_data.describe()"
   ]
  },
  {
   "cell_type": "code",
   "execution_count": 13,
   "id": "efd8911d",
   "metadata": {
    "execution": {
     "iopub.execute_input": "2023-10-16T12:31:31.509264Z",
     "iopub.status.busy": "2023-10-16T12:31:31.508878Z",
     "iopub.status.idle": "2023-10-16T12:31:32.022841Z",
     "shell.execute_reply": "2023-10-16T12:31:32.021680Z"
    },
    "papermill": {
     "duration": 0.530231,
     "end_time": "2023-10-16T12:31:32.025056",
     "exception": false,
     "start_time": "2023-10-16T12:31:31.494825",
     "status": "completed"
    },
    "tags": []
   },
   "outputs": [
    {
     "data": {
      "text/plain": [
       "movieid                  16812\n",
       "title                    16812\n",
       "audienceScore              100\n",
       "rating                       7\n",
       "ratingContents            5371\n",
       "releaseDateTheaters       5066\n",
       "releaseDateStreaming      3249\n",
       "runtimeMinutes             238\n",
       "genre                     1339\n",
       "originalLanguage            96\n",
       "director                 13038\n",
       "boxOffice                 3918\n",
       "distributor               1913\n",
       "soundType                  487\n",
       "reviewerName              4482\n",
       "isFrequentReviewer           2\n",
       "reviewText              155071\n",
       "sentiment                    2\n",
       "dtype: int64"
      ]
     },
     "execution_count": 13,
     "metadata": {},
     "output_type": "execute_result"
    }
   ],
   "source": [
    "#UNIQUE VALUES\n",
    "joined_data.nunique()"
   ]
  },
  {
   "cell_type": "code",
   "execution_count": 14,
   "id": "0f110cfa",
   "metadata": {
    "execution": {
     "iopub.execute_input": "2023-10-16T12:31:32.053916Z",
     "iopub.status.busy": "2023-10-16T12:31:32.053534Z",
     "iopub.status.idle": "2023-10-16T12:31:32.081239Z",
     "shell.execute_reply": "2023-10-16T12:31:32.080320Z"
    },
    "papermill": {
     "duration": 0.045166,
     "end_time": "2023-10-16T12:31:32.083371",
     "exception": false,
     "start_time": "2023-10-16T12:31:32.038205",
     "status": "completed"
    },
    "tags": []
   },
   "outputs": [
    {
     "data": {
      "text/plain": [
       "array(['English', 'Portuguese (Brazil)', 'Polish', 'Spanish',\n",
       "       'French (Canada)', 'German', nan, 'Dutch', 'Hindi',\n",
       "       'French (France)', 'Swedish', 'Korean', 'Hebrew', 'Finnish',\n",
       "       'Chinese', 'Persian', 'Italian', 'Armenian', 'English (Australia)',\n",
       "       'English (United Kingdom)', 'Malayalam', 'Turkish', 'Russian',\n",
       "       'Tamil', 'Ukrainian', 'Bambara', 'Catalan', 'Norwegian', 'French',\n",
       "       'Japanese', 'Arabic', 'Unknown language', 'Spanish (Spain)',\n",
       "       'Urdu', 'Bulgarian', 'Icelandic', 'Amharic', 'Danish', 'Telugu',\n",
       "       'Kannada', 'Hungarian', 'Filipino', 'Estonian', 'Belarusian',\n",
       "       'Tagalog', 'Greek', 'Portuguese', 'Malay', 'Indonesian', 'Thai',\n",
       "       'Inuktitut', 'Marathi', 'Croatian', 'Yiddish', 'Punjabi',\n",
       "       'Romanian', 'Czech', 'Slovak', 'Slovenian', 'Afrikaans',\n",
       "       'Dzongkha', 'Bangla', 'Gujarati', 'Bosnian', 'Albanian',\n",
       "       'Vietnamese', 'Georgian', 'Serbian', 'Scottish Gaelic',\n",
       "       'Lithuanian', 'Zulu', 'Lao', 'Pashto', 'Mongolian', 'Tibetan',\n",
       "       'Welsh', 'Luxembourgish', 'Maori', 'Kurdish', 'Nepali',\n",
       "       'Macedonian', 'Swahili', 'Somali', 'Irish', 'Khmer', 'Latvian',\n",
       "       'Wolof', 'crp', 'Romany', 'Lingala', 'Galician', 'Xhosa',\n",
       "       'Azerbaijani', 'Maltese', 'Kalaallisut', 'smi', 'Aramaic'],\n",
       "      dtype=object)"
      ]
     },
     "execution_count": 14,
     "metadata": {},
     "output_type": "execute_result"
    }
   ],
   "source": [
    "#MOVIE LANGUAGE\n",
    "joined_data['originalLanguage'].unique()"
   ]
  },
  {
   "cell_type": "markdown",
   "id": "bc5fb978",
   "metadata": {
    "papermill": {
     "duration": 0.012949,
     "end_time": "2023-10-16T12:31:32.109771",
     "exception": false,
     "start_time": "2023-10-16T12:31:32.096822",
     "status": "completed"
    },
    "tags": []
   },
   "source": [
    "# **2.Cleaning & Preprocessing the data**"
   ]
  },
  {
   "cell_type": "code",
   "execution_count": 15,
   "id": "b4f8a64b",
   "metadata": {
    "execution": {
     "iopub.execute_input": "2023-10-16T12:31:32.137789Z",
     "iopub.status.busy": "2023-10-16T12:31:32.137403Z",
     "iopub.status.idle": "2023-10-16T12:31:32.458745Z",
     "shell.execute_reply": "2023-10-16T12:31:32.457702Z"
    },
    "papermill": {
     "duration": 0.338097,
     "end_time": "2023-10-16T12:31:32.460971",
     "exception": false,
     "start_time": "2023-10-16T12:31:32.122874",
     "status": "completed"
    },
    "tags": []
   },
   "outputs": [
    {
     "data": {
      "text/plain": [
       "movieid                      0\n",
       "title                        0\n",
       "audienceScore           300829\n",
       "rating                  390791\n",
       "ratingContents          390791\n",
       "releaseDateTheaters     342951\n",
       "releaseDateStreaming    275844\n",
       "runtimeMinutes          222688\n",
       "genre                   217333\n",
       "originalLanguage        220455\n",
       "director                     0\n",
       "boxOffice               380216\n",
       "distributor             355592\n",
       "soundType               415919\n",
       "reviewerName                 0\n",
       "isFrequentReviewer           0\n",
       "reviewText               23817\n",
       "sentiment                    0\n",
       "dtype: int64"
      ]
     },
     "execution_count": 15,
     "metadata": {},
     "output_type": "execute_result"
    }
   ],
   "source": [
    "#SEARCHING FOR NULL VALUES\n",
    "joined_data.isnull().sum()"
   ]
  },
  {
   "cell_type": "code",
   "execution_count": 16,
   "id": "2dd01735",
   "metadata": {
    "execution": {
     "iopub.execute_input": "2023-10-16T12:31:32.488850Z",
     "iopub.status.busy": "2023-10-16T12:31:32.488444Z",
     "iopub.status.idle": "2023-10-16T12:31:32.581648Z",
     "shell.execute_reply": "2023-10-16T12:31:32.580449Z"
    },
    "papermill": {
     "duration": 0.109829,
     "end_time": "2023-10-16T12:31:32.584053",
     "exception": false,
     "start_time": "2023-10-16T12:31:32.474224",
     "status": "completed"
    },
    "tags": []
   },
   "outputs": [],
   "source": [
    "# DROPPING THE 'boxOffice' COLUMN\n",
    "data = joined_data.drop(['boxOffice'], axis=1)"
   ]
  },
  {
   "cell_type": "code",
   "execution_count": 17,
   "id": "fdb5a8e6",
   "metadata": {
    "execution": {
     "iopub.execute_input": "2023-10-16T12:31:32.614313Z",
     "iopub.status.busy": "2023-10-16T12:31:32.613919Z",
     "iopub.status.idle": "2023-10-16T12:31:32.705497Z",
     "shell.execute_reply": "2023-10-16T12:31:32.704304Z"
    },
    "papermill": {
     "duration": 0.108454,
     "end_time": "2023-10-16T12:31:32.707817",
     "exception": false,
     "start_time": "2023-10-16T12:31:32.599363",
     "status": "completed"
    },
    "tags": []
   },
   "outputs": [],
   "source": [
    "# EXTRACTING FEATURES (X) AND LABELS (y)\n",
    "X = data.drop(['sentiment'], axis=1)  \n",
    "y = data['sentiment']  "
   ]
  },
  {
   "cell_type": "code",
   "execution_count": 18,
   "id": "6eddfedb",
   "metadata": {
    "execution": {
     "iopub.execute_input": "2023-10-16T12:31:32.735995Z",
     "iopub.status.busy": "2023-10-16T12:31:32.735561Z",
     "iopub.status.idle": "2023-10-16T12:31:32.860068Z",
     "shell.execute_reply": "2023-10-16T12:31:32.858971Z"
    },
    "papermill": {
     "duration": 0.141413,
     "end_time": "2023-10-16T12:31:32.862450",
     "exception": false,
     "start_time": "2023-10-16T12:31:32.721037",
     "status": "completed"
    },
    "tags": []
   },
   "outputs": [],
   "source": [
    "#ENCDING POSTIVE AND NEGATIVE VALUES AS NUMERICAL VALUES\n",
    "label_encoder = LabelEncoder()\n",
    "y_encoded = label_encoder.fit_transform(y)"
   ]
  },
  {
   "cell_type": "code",
   "execution_count": 19,
   "id": "83e68420",
   "metadata": {
    "execution": {
     "iopub.execute_input": "2023-10-16T12:31:32.893047Z",
     "iopub.status.busy": "2023-10-16T12:31:32.892588Z",
     "iopub.status.idle": "2023-10-16T12:31:32.898437Z",
     "shell.execute_reply": "2023-10-16T12:31:32.897449Z"
    },
    "papermill": {
     "duration": 0.024833,
     "end_time": "2023-10-16T12:31:32.900660",
     "exception": false,
     "start_time": "2023-10-16T12:31:32.875827",
     "status": "completed"
    },
    "tags": []
   },
   "outputs": [
    {
     "data": {
      "text/plain": [
       "((525277, 16), (525277,))"
      ]
     },
     "execution_count": 19,
     "metadata": {},
     "output_type": "execute_result"
    }
   ],
   "source": [
    "#CHECKING SHAPES OF X AND Y\n",
    "X.shape, y_encoded.shape"
   ]
  },
  {
   "cell_type": "code",
   "execution_count": 20,
   "id": "d34f1064",
   "metadata": {
    "execution": {
     "iopub.execute_input": "2023-10-16T12:31:32.930480Z",
     "iopub.status.busy": "2023-10-16T12:31:32.929718Z",
     "iopub.status.idle": "2023-10-16T12:31:33.057460Z",
     "shell.execute_reply": "2023-10-16T12:31:33.056351Z"
    },
    "papermill": {
     "duration": 0.145143,
     "end_time": "2023-10-16T12:31:33.059894",
     "exception": false,
     "start_time": "2023-10-16T12:31:32.914751",
     "status": "completed"
    },
    "tags": []
   },
   "outputs": [],
   "source": [
    "#IMPUTING NUMERICAL VALUES\n",
    "num_imputer = SimpleImputer(strategy='median')\n",
    "\n",
    "numerical_cols = ['audienceScore', 'runtimeMinutes']  \n",
    "imputed_num_data = num_imputer.fit_transform(data[numerical_cols])"
   ]
  },
  {
   "cell_type": "code",
   "execution_count": 21,
   "id": "9b2c9213",
   "metadata": {
    "execution": {
     "iopub.execute_input": "2023-10-16T12:31:33.089326Z",
     "iopub.status.busy": "2023-10-16T12:31:33.088935Z",
     "iopub.status.idle": "2023-10-16T12:31:33.544432Z",
     "shell.execute_reply": "2023-10-16T12:31:33.543366Z"
    },
    "papermill": {
     "duration": 0.47278,
     "end_time": "2023-10-16T12:31:33.546607",
     "exception": false,
     "start_time": "2023-10-16T12:31:33.073827",
     "status": "completed"
    },
    "tags": []
   },
   "outputs": [],
   "source": [
    "#IMPUTING CATEGORICAL VALUES\n",
    "cat_imputer = SimpleImputer(strategy='constant', fill_value='missing')\n",
    "\n",
    "categorical_cols = ['rating', 'ratingContents', 'releaseDateTheaters', 'releaseDateStreaming', 'genre', 'originalLanguage', 'distributor', 'soundType']  \n",
    "imputed_cat_data = cat_imputer.fit_transform(data[categorical_cols])"
   ]
  },
  {
   "cell_type": "code",
   "execution_count": 22,
   "id": "eb4d12c5",
   "metadata": {
    "execution": {
     "iopub.execute_input": "2023-10-16T12:31:33.576403Z",
     "iopub.status.busy": "2023-10-16T12:31:33.575986Z",
     "iopub.status.idle": "2023-10-16T12:31:34.885594Z",
     "shell.execute_reply": "2023-10-16T12:31:34.884654Z"
    },
    "papermill": {
     "duration": 1.326183,
     "end_time": "2023-10-16T12:31:34.887837",
     "exception": false,
     "start_time": "2023-10-16T12:31:33.561654",
     "status": "completed"
    },
    "tags": []
   },
   "outputs": [],
   "source": [
    "ordinal_encoder = OrdinalEncoder()\n",
    "\n",
    "oe_cat_data = ordinal_encoder.fit_transform(data[categorical_cols])"
   ]
  },
  {
   "cell_type": "code",
   "execution_count": 23,
   "id": "d0b06a85",
   "metadata": {
    "execution": {
     "iopub.execute_input": "2023-10-16T12:31:34.916319Z",
     "iopub.status.busy": "2023-10-16T12:31:34.915895Z",
     "iopub.status.idle": "2023-10-16T12:31:35.215567Z",
     "shell.execute_reply": "2023-10-16T12:31:35.214323Z"
    },
    "papermill": {
     "duration": 0.316527,
     "end_time": "2023-10-16T12:31:35.217944",
     "exception": false,
     "start_time": "2023-10-16T12:31:34.901417",
     "status": "completed"
    },
    "tags": []
   },
   "outputs": [],
   "source": [
    "#SPLITTING THE DATA IN TRAIN AND TEST SETS\n",
    "\n",
    "X_train, X_test, y_train, y_test = train_test_split(X,y_encoded, test_size = 0.2, random_state = 48)"
   ]
  },
  {
   "cell_type": "code",
   "execution_count": 24,
   "id": "94c935b6",
   "metadata": {
    "execution": {
     "iopub.execute_input": "2023-10-16T12:31:35.246509Z",
     "iopub.status.busy": "2023-10-16T12:31:35.246127Z",
     "iopub.status.idle": "2023-10-16T12:31:35.320611Z",
     "shell.execute_reply": "2023-10-16T12:31:35.319484Z"
    },
    "papermill": {
     "duration": 0.091829,
     "end_time": "2023-10-16T12:31:35.323238",
     "exception": false,
     "start_time": "2023-10-16T12:31:35.231409",
     "status": "completed"
    },
    "tags": []
   },
   "outputs": [],
   "source": [
    "#FIRST WE IMPUTE MISSING VALUES WITH SPACE\n",
    "\n",
    "X_train['reviewText'].fillna('', inplace=True)\n",
    "X_test['reviewText'].fillna('', inplace=True)"
   ]
  },
  {
   "cell_type": "code",
   "execution_count": 25,
   "id": "877a76de",
   "metadata": {
    "execution": {
     "iopub.execute_input": "2023-10-16T12:31:35.351986Z",
     "iopub.status.busy": "2023-10-16T12:31:35.351592Z",
     "iopub.status.idle": "2023-10-16T12:31:46.540731Z",
     "shell.execute_reply": "2023-10-16T12:31:46.539629Z"
    },
    "papermill": {
     "duration": 11.206154,
     "end_time": "2023-10-16T12:31:46.543103",
     "exception": false,
     "start_time": "2023-10-16T12:31:35.336949",
     "status": "completed"
    },
    "tags": []
   },
   "outputs": [],
   "source": [
    "#Tfidf VECTORIZER FOR REVIEW TEXT\n",
    "\n",
    "tfidf_vectorizer = TfidfVectorizer()\n",
    "X_train_tfidf = tfidf_vectorizer.fit_transform(X_train['reviewText'])\n",
    "X_test_tfidf = tfidf_vectorizer.transform(X_test['reviewText'])"
   ]
  },
  {
   "cell_type": "code",
   "execution_count": 26,
   "id": "c78fa707",
   "metadata": {
    "execution": {
     "iopub.execute_input": "2023-10-16T12:31:46.571529Z",
     "iopub.status.busy": "2023-10-16T12:31:46.570755Z",
     "iopub.status.idle": "2023-10-16T12:31:47.119372Z",
     "shell.execute_reply": "2023-10-16T12:31:47.118212Z"
    },
    "papermill": {
     "duration": 0.56535,
     "end_time": "2023-10-16T12:31:47.121801",
     "exception": false,
     "start_time": "2023-10-16T12:31:46.556451",
     "status": "completed"
    },
    "tags": []
   },
   "outputs": [],
   "source": [
    "from sklearn.preprocessing import MaxAbsScaler\n",
    "\n",
    "scaler = MaxAbsScaler()\n",
    "X_train_scaled = scaler.fit_transform(X_train_tfidf)"
   ]
  },
  {
   "cell_type": "code",
   "execution_count": 27,
   "id": "b2a03901",
   "metadata": {
    "execution": {
     "iopub.execute_input": "2023-10-16T12:31:47.150890Z",
     "iopub.status.busy": "2023-10-16T12:31:47.149848Z",
     "iopub.status.idle": "2023-10-16T12:31:47.155722Z",
     "shell.execute_reply": "2023-10-16T12:31:47.154680Z"
    },
    "papermill": {
     "duration": 0.022202,
     "end_time": "2023-10-16T12:31:47.157652",
     "exception": false,
     "start_time": "2023-10-16T12:31:47.135450",
     "status": "completed"
    },
    "tags": []
   },
   "outputs": [
    {
     "data": {
      "text/plain": [
       "((420221, 61417), (420221,))"
      ]
     },
     "execution_count": 27,
     "metadata": {},
     "output_type": "execute_result"
    }
   ],
   "source": [
    "X_train_tfidf.shape, y_train.shape"
   ]
  },
  {
   "cell_type": "code",
   "execution_count": 28,
   "id": "9a29a4ea",
   "metadata": {
    "execution": {
     "iopub.execute_input": "2023-10-16T12:31:47.186319Z",
     "iopub.status.busy": "2023-10-16T12:31:47.185936Z",
     "iopub.status.idle": "2023-10-16T12:31:47.191878Z",
     "shell.execute_reply": "2023-10-16T12:31:47.190753Z"
    },
    "papermill": {
     "duration": 0.022511,
     "end_time": "2023-10-16T12:31:47.193786",
     "exception": false,
     "start_time": "2023-10-16T12:31:47.171275",
     "status": "completed"
    },
    "tags": []
   },
   "outputs": [
    {
     "data": {
      "text/plain": [
       "(105056, 16)"
      ]
     },
     "execution_count": 28,
     "metadata": {},
     "output_type": "execute_result"
    }
   ],
   "source": [
    "X_test.shape"
   ]
  },
  {
   "cell_type": "markdown",
   "id": "c2cc8086",
   "metadata": {
    "papermill": {
     "duration": 0.012967,
     "end_time": "2023-10-16T12:31:47.220333",
     "exception": false,
     "start_time": "2023-10-16T12:31:47.207366",
     "status": "completed"
    },
    "tags": []
   },
   "source": [
    "# **3. Data Visualisation**"
   ]
  },
  {
   "cell_type": "code",
   "execution_count": 29,
   "id": "345b4715",
   "metadata": {
    "execution": {
     "iopub.execute_input": "2023-10-16T12:31:47.248631Z",
     "iopub.status.busy": "2023-10-16T12:31:47.248267Z",
     "iopub.status.idle": "2023-10-16T12:31:47.252409Z",
     "shell.execute_reply": "2023-10-16T12:31:47.251532Z"
    },
    "papermill": {
     "duration": 0.020764,
     "end_time": "2023-10-16T12:31:47.254382",
     "exception": false,
     "start_time": "2023-10-16T12:31:47.233618",
     "status": "completed"
    },
    "tags": []
   },
   "outputs": [],
   "source": [
    "# sns.pairplot(data)"
   ]
  },
  {
   "cell_type": "code",
   "execution_count": 30,
   "id": "e7363b70",
   "metadata": {
    "execution": {
     "iopub.execute_input": "2023-10-16T12:31:47.282840Z",
     "iopub.status.busy": "2023-10-16T12:31:47.282422Z",
     "iopub.status.idle": "2023-10-16T12:31:47.286760Z",
     "shell.execute_reply": "2023-10-16T12:31:47.285621Z"
    },
    "papermill": {
     "duration": 0.021065,
     "end_time": "2023-10-16T12:31:47.288850",
     "exception": false,
     "start_time": "2023-10-16T12:31:47.267785",
     "status": "completed"
    },
    "tags": []
   },
   "outputs": [],
   "source": [
    "# sns.relplot(x = 'audienceScore', y = 'runtimeMinutes', hue = 'originalLanguage', data = joined_data)"
   ]
  },
  {
   "cell_type": "code",
   "execution_count": 31,
   "id": "684532a8",
   "metadata": {
    "execution": {
     "iopub.execute_input": "2023-10-16T12:31:47.317510Z",
     "iopub.status.busy": "2023-10-16T12:31:47.316879Z",
     "iopub.status.idle": "2023-10-16T12:31:47.320634Z",
     "shell.execute_reply": "2023-10-16T12:31:47.319855Z"
    },
    "papermill": {
     "duration": 0.020347,
     "end_time": "2023-10-16T12:31:47.322609",
     "exception": false,
     "start_time": "2023-10-16T12:31:47.302262",
     "status": "completed"
    },
    "tags": []
   },
   "outputs": [],
   "source": [
    "# sns.relplot(x = 'audienceScore', y = 'runtimeMinutes', hue = 'sentiment', data = joined_data)"
   ]
  },
  {
   "cell_type": "markdown",
   "id": "e7147ba8",
   "metadata": {
    "papermill": {
     "duration": 0.013544,
     "end_time": "2023-10-16T12:31:47.349990",
     "exception": false,
     "start_time": "2023-10-16T12:31:47.336446",
     "status": "completed"
    },
    "tags": []
   },
   "source": [
    "# **3. Training the model**"
   ]
  },
  {
   "cell_type": "markdown",
   "id": "e28360e9",
   "metadata": {
    "papermill": {
     "duration": 0.013788,
     "end_time": "2023-10-16T12:31:47.377541",
     "exception": false,
     "start_time": "2023-10-16T12:31:47.363753",
     "status": "completed"
    },
    "tags": []
   },
   "source": [
    "# *MODEL 1* (*Dummy Classifier*)"
   ]
  },
  {
   "cell_type": "code",
   "execution_count": 32,
   "id": "d0096dcc",
   "metadata": {
    "execution": {
     "iopub.execute_input": "2023-10-16T12:31:47.406212Z",
     "iopub.status.busy": "2023-10-16T12:31:47.405835Z",
     "iopub.status.idle": "2023-10-16T12:31:47.410548Z",
     "shell.execute_reply": "2023-10-16T12:31:47.409566Z"
    },
    "papermill": {
     "duration": 0.021443,
     "end_time": "2023-10-16T12:31:47.412448",
     "exception": false,
     "start_time": "2023-10-16T12:31:47.391005",
     "status": "completed"
    },
    "tags": []
   },
   "outputs": [],
   "source": [
    "dummy_clf = DummyClassifier(strategy = 'most_frequent')"
   ]
  },
  {
   "cell_type": "code",
   "execution_count": 33,
   "id": "e58382be",
   "metadata": {
    "execution": {
     "iopub.execute_input": "2023-10-16T12:31:47.441006Z",
     "iopub.status.busy": "2023-10-16T12:31:47.440634Z",
     "iopub.status.idle": "2023-10-16T12:31:47.469125Z",
     "shell.execute_reply": "2023-10-16T12:31:47.467936Z"
    },
    "papermill": {
     "duration": 0.045584,
     "end_time": "2023-10-16T12:31:47.471559",
     "exception": false,
     "start_time": "2023-10-16T12:31:47.425975",
     "status": "completed"
    },
    "tags": []
   },
   "outputs": [
    {
     "data": {
      "text/html": [
       "<style>#sk-container-id-1 {color: black;background-color: white;}#sk-container-id-1 pre{padding: 0;}#sk-container-id-1 div.sk-toggleable {background-color: white;}#sk-container-id-1 label.sk-toggleable__label {cursor: pointer;display: block;width: 100%;margin-bottom: 0;padding: 0.3em;box-sizing: border-box;text-align: center;}#sk-container-id-1 label.sk-toggleable__label-arrow:before {content: \"▸\";float: left;margin-right: 0.25em;color: #696969;}#sk-container-id-1 label.sk-toggleable__label-arrow:hover:before {color: black;}#sk-container-id-1 div.sk-estimator:hover label.sk-toggleable__label-arrow:before {color: black;}#sk-container-id-1 div.sk-toggleable__content {max-height: 0;max-width: 0;overflow: hidden;text-align: left;background-color: #f0f8ff;}#sk-container-id-1 div.sk-toggleable__content pre {margin: 0.2em;color: black;border-radius: 0.25em;background-color: #f0f8ff;}#sk-container-id-1 input.sk-toggleable__control:checked~div.sk-toggleable__content {max-height: 200px;max-width: 100%;overflow: auto;}#sk-container-id-1 input.sk-toggleable__control:checked~label.sk-toggleable__label-arrow:before {content: \"▾\";}#sk-container-id-1 div.sk-estimator input.sk-toggleable__control:checked~label.sk-toggleable__label {background-color: #d4ebff;}#sk-container-id-1 div.sk-label input.sk-toggleable__control:checked~label.sk-toggleable__label {background-color: #d4ebff;}#sk-container-id-1 input.sk-hidden--visually {border: 0;clip: rect(1px 1px 1px 1px);clip: rect(1px, 1px, 1px, 1px);height: 1px;margin: -1px;overflow: hidden;padding: 0;position: absolute;width: 1px;}#sk-container-id-1 div.sk-estimator {font-family: monospace;background-color: #f0f8ff;border: 1px dotted black;border-radius: 0.25em;box-sizing: border-box;margin-bottom: 0.5em;}#sk-container-id-1 div.sk-estimator:hover {background-color: #d4ebff;}#sk-container-id-1 div.sk-parallel-item::after {content: \"\";width: 100%;border-bottom: 1px solid gray;flex-grow: 1;}#sk-container-id-1 div.sk-label:hover label.sk-toggleable__label {background-color: #d4ebff;}#sk-container-id-1 div.sk-serial::before {content: \"\";position: absolute;border-left: 1px solid gray;box-sizing: border-box;top: 0;bottom: 0;left: 50%;z-index: 0;}#sk-container-id-1 div.sk-serial {display: flex;flex-direction: column;align-items: center;background-color: white;padding-right: 0.2em;padding-left: 0.2em;position: relative;}#sk-container-id-1 div.sk-item {position: relative;z-index: 1;}#sk-container-id-1 div.sk-parallel {display: flex;align-items: stretch;justify-content: center;background-color: white;position: relative;}#sk-container-id-1 div.sk-item::before, #sk-container-id-1 div.sk-parallel-item::before {content: \"\";position: absolute;border-left: 1px solid gray;box-sizing: border-box;top: 0;bottom: 0;left: 50%;z-index: -1;}#sk-container-id-1 div.sk-parallel-item {display: flex;flex-direction: column;z-index: 1;position: relative;background-color: white;}#sk-container-id-1 div.sk-parallel-item:first-child::after {align-self: flex-end;width: 50%;}#sk-container-id-1 div.sk-parallel-item:last-child::after {align-self: flex-start;width: 50%;}#sk-container-id-1 div.sk-parallel-item:only-child::after {width: 0;}#sk-container-id-1 div.sk-dashed-wrapped {border: 1px dashed gray;margin: 0 0.4em 0.5em 0.4em;box-sizing: border-box;padding-bottom: 0.4em;background-color: white;}#sk-container-id-1 div.sk-label label {font-family: monospace;font-weight: bold;display: inline-block;line-height: 1.2em;}#sk-container-id-1 div.sk-label-container {text-align: center;}#sk-container-id-1 div.sk-container {/* jupyter's `normalize.less` sets `[hidden] { display: none; }` but bootstrap.min.css set `[hidden] { display: none !important; }` so we also need the `!important` here to be able to override the default hidden behavior on the sphinx rendered scikit-learn.org. See: https://github.com/scikit-learn/scikit-learn/issues/21755 */display: inline-block !important;position: relative;}#sk-container-id-1 div.sk-text-repr-fallback {display: none;}</style><div id=\"sk-container-id-1\" class=\"sk-top-container\"><div class=\"sk-text-repr-fallback\"><pre>DummyClassifier(strategy=&#x27;most_frequent&#x27;)</pre><b>In a Jupyter environment, please rerun this cell to show the HTML representation or trust the notebook. <br />On GitHub, the HTML representation is unable to render, please try loading this page with nbviewer.org.</b></div><div class=\"sk-container\" hidden><div class=\"sk-item\"><div class=\"sk-estimator sk-toggleable\"><input class=\"sk-toggleable__control sk-hidden--visually\" id=\"sk-estimator-id-1\" type=\"checkbox\" checked><label for=\"sk-estimator-id-1\" class=\"sk-toggleable__label sk-toggleable__label-arrow\">DummyClassifier</label><div class=\"sk-toggleable__content\"><pre>DummyClassifier(strategy=&#x27;most_frequent&#x27;)</pre></div></div></div></div></div>"
      ],
      "text/plain": [
       "DummyClassifier(strategy='most_frequent')"
      ]
     },
     "execution_count": 33,
     "metadata": {},
     "output_type": "execute_result"
    }
   ],
   "source": [
    "#FITTING THE MODEL\n",
    "dummy_clf.fit(X_train_tfidf, y_train)"
   ]
  },
  {
   "cell_type": "code",
   "execution_count": 34,
   "id": "c47ed2ea",
   "metadata": {
    "execution": {
     "iopub.execute_input": "2023-10-16T12:31:47.501117Z",
     "iopub.status.busy": "2023-10-16T12:31:47.500722Z",
     "iopub.status.idle": "2023-10-16T12:31:47.548439Z",
     "shell.execute_reply": "2023-10-16T12:31:47.547312Z"
    },
    "papermill": {
     "duration": 0.064888,
     "end_time": "2023-10-16T12:31:47.550632",
     "exception": false,
     "start_time": "2023-10-16T12:31:47.485744",
     "status": "completed"
    },
    "tags": []
   },
   "outputs": [
    {
     "name": "stdout",
     "output_type": "stream",
     "text": [
      "F1 Score on dummy classifier :  0.8012847941305675\n"
     ]
    }
   ],
   "source": [
    "#PREDICTION ON train_test_split\n",
    "y_pred_dummy_clf = dummy_clf.predict(X_test_tfidf)\n",
    "\n",
    "f1Score_dummy = f1_score(y_test, y_pred_dummy_clf)\n",
    "\n",
    "print(\"F1 Score on dummy classifier : \", f1Score_dummy)"
   ]
  },
  {
   "cell_type": "markdown",
   "id": "5239aa9c",
   "metadata": {
    "papermill": {
     "duration": 0.013218,
     "end_time": "2023-10-16T12:31:47.577569",
     "exception": false,
     "start_time": "2023-10-16T12:31:47.564351",
     "status": "completed"
    },
    "tags": []
   },
   "source": [
    "# *MODEL 2 (Logistic Regression)*"
   ]
  },
  {
   "cell_type": "code",
   "execution_count": 35,
   "id": "df37634b",
   "metadata": {
    "execution": {
     "iopub.execute_input": "2023-10-16T12:31:47.606389Z",
     "iopub.status.busy": "2023-10-16T12:31:47.605748Z",
     "iopub.status.idle": "2023-10-16T12:31:47.610030Z",
     "shell.execute_reply": "2023-10-16T12:31:47.608952Z"
    },
    "papermill": {
     "duration": 0.020928,
     "end_time": "2023-10-16T12:31:47.612036",
     "exception": false,
     "start_time": "2023-10-16T12:31:47.591108",
     "status": "completed"
    },
    "tags": []
   },
   "outputs": [],
   "source": [
    "# #LOGISTIC REGRESSION\n",
    "# log_reg = LogisticRegression(max_iter = 1000)\n",
    "# log_reg.fit(X_train_tfidf, y_train)"
   ]
  },
  {
   "cell_type": "code",
   "execution_count": 36,
   "id": "f31768fc",
   "metadata": {
    "execution": {
     "iopub.execute_input": "2023-10-16T12:31:47.641479Z",
     "iopub.status.busy": "2023-10-16T12:31:47.641142Z",
     "iopub.status.idle": "2023-10-16T13:00:55.001751Z",
     "shell.execute_reply": "2023-10-16T13:00:55.000025Z"
    },
    "papermill": {
     "duration": 1747.406991,
     "end_time": "2023-10-16T13:00:55.032581",
     "exception": false,
     "start_time": "2023-10-16T12:31:47.625590",
     "status": "completed"
    },
    "tags": []
   },
   "outputs": [
    {
     "data": {
      "text/html": [
       "<style>#sk-container-id-2 {color: black;background-color: white;}#sk-container-id-2 pre{padding: 0;}#sk-container-id-2 div.sk-toggleable {background-color: white;}#sk-container-id-2 label.sk-toggleable__label {cursor: pointer;display: block;width: 100%;margin-bottom: 0;padding: 0.3em;box-sizing: border-box;text-align: center;}#sk-container-id-2 label.sk-toggleable__label-arrow:before {content: \"▸\";float: left;margin-right: 0.25em;color: #696969;}#sk-container-id-2 label.sk-toggleable__label-arrow:hover:before {color: black;}#sk-container-id-2 div.sk-estimator:hover label.sk-toggleable__label-arrow:before {color: black;}#sk-container-id-2 div.sk-toggleable__content {max-height: 0;max-width: 0;overflow: hidden;text-align: left;background-color: #f0f8ff;}#sk-container-id-2 div.sk-toggleable__content pre {margin: 0.2em;color: black;border-radius: 0.25em;background-color: #f0f8ff;}#sk-container-id-2 input.sk-toggleable__control:checked~div.sk-toggleable__content {max-height: 200px;max-width: 100%;overflow: auto;}#sk-container-id-2 input.sk-toggleable__control:checked~label.sk-toggleable__label-arrow:before {content: \"▾\";}#sk-container-id-2 div.sk-estimator input.sk-toggleable__control:checked~label.sk-toggleable__label {background-color: #d4ebff;}#sk-container-id-2 div.sk-label input.sk-toggleable__control:checked~label.sk-toggleable__label {background-color: #d4ebff;}#sk-container-id-2 input.sk-hidden--visually {border: 0;clip: rect(1px 1px 1px 1px);clip: rect(1px, 1px, 1px, 1px);height: 1px;margin: -1px;overflow: hidden;padding: 0;position: absolute;width: 1px;}#sk-container-id-2 div.sk-estimator {font-family: monospace;background-color: #f0f8ff;border: 1px dotted black;border-radius: 0.25em;box-sizing: border-box;margin-bottom: 0.5em;}#sk-container-id-2 div.sk-estimator:hover {background-color: #d4ebff;}#sk-container-id-2 div.sk-parallel-item::after {content: \"\";width: 100%;border-bottom: 1px solid gray;flex-grow: 1;}#sk-container-id-2 div.sk-label:hover label.sk-toggleable__label {background-color: #d4ebff;}#sk-container-id-2 div.sk-serial::before {content: \"\";position: absolute;border-left: 1px solid gray;box-sizing: border-box;top: 0;bottom: 0;left: 50%;z-index: 0;}#sk-container-id-2 div.sk-serial {display: flex;flex-direction: column;align-items: center;background-color: white;padding-right: 0.2em;padding-left: 0.2em;position: relative;}#sk-container-id-2 div.sk-item {position: relative;z-index: 1;}#sk-container-id-2 div.sk-parallel {display: flex;align-items: stretch;justify-content: center;background-color: white;position: relative;}#sk-container-id-2 div.sk-item::before, #sk-container-id-2 div.sk-parallel-item::before {content: \"\";position: absolute;border-left: 1px solid gray;box-sizing: border-box;top: 0;bottom: 0;left: 50%;z-index: -1;}#sk-container-id-2 div.sk-parallel-item {display: flex;flex-direction: column;z-index: 1;position: relative;background-color: white;}#sk-container-id-2 div.sk-parallel-item:first-child::after {align-self: flex-end;width: 50%;}#sk-container-id-2 div.sk-parallel-item:last-child::after {align-self: flex-start;width: 50%;}#sk-container-id-2 div.sk-parallel-item:only-child::after {width: 0;}#sk-container-id-2 div.sk-dashed-wrapped {border: 1px dashed gray;margin: 0 0.4em 0.5em 0.4em;box-sizing: border-box;padding-bottom: 0.4em;background-color: white;}#sk-container-id-2 div.sk-label label {font-family: monospace;font-weight: bold;display: inline-block;line-height: 1.2em;}#sk-container-id-2 div.sk-label-container {text-align: center;}#sk-container-id-2 div.sk-container {/* jupyter's `normalize.less` sets `[hidden] { display: none; }` but bootstrap.min.css set `[hidden] { display: none !important; }` so we also need the `!important` here to be able to override the default hidden behavior on the sphinx rendered scikit-learn.org. See: https://github.com/scikit-learn/scikit-learn/issues/21755 */display: inline-block !important;position: relative;}#sk-container-id-2 div.sk-text-repr-fallback {display: none;}</style><div id=\"sk-container-id-2\" class=\"sk-top-container\"><div class=\"sk-text-repr-fallback\"><pre>GridSearchCV(cv=5, estimator=LogisticRegression(max_iter=10000),\n",
       "             param_grid={&#x27;C&#x27;: [0.001, 0.01, 0.1, 1, 10, 100]})</pre><b>In a Jupyter environment, please rerun this cell to show the HTML representation or trust the notebook. <br />On GitHub, the HTML representation is unable to render, please try loading this page with nbviewer.org.</b></div><div class=\"sk-container\" hidden><div class=\"sk-item sk-dashed-wrapped\"><div class=\"sk-label-container\"><div class=\"sk-label sk-toggleable\"><input class=\"sk-toggleable__control sk-hidden--visually\" id=\"sk-estimator-id-2\" type=\"checkbox\" ><label for=\"sk-estimator-id-2\" class=\"sk-toggleable__label sk-toggleable__label-arrow\">GridSearchCV</label><div class=\"sk-toggleable__content\"><pre>GridSearchCV(cv=5, estimator=LogisticRegression(max_iter=10000),\n",
       "             param_grid={&#x27;C&#x27;: [0.001, 0.01, 0.1, 1, 10, 100]})</pre></div></div></div><div class=\"sk-parallel\"><div class=\"sk-parallel-item\"><div class=\"sk-item\"><div class=\"sk-label-container\"><div class=\"sk-label sk-toggleable\"><input class=\"sk-toggleable__control sk-hidden--visually\" id=\"sk-estimator-id-3\" type=\"checkbox\" ><label for=\"sk-estimator-id-3\" class=\"sk-toggleable__label sk-toggleable__label-arrow\">estimator: LogisticRegression</label><div class=\"sk-toggleable__content\"><pre>LogisticRegression(max_iter=10000)</pre></div></div></div><div class=\"sk-serial\"><div class=\"sk-item\"><div class=\"sk-estimator sk-toggleable\"><input class=\"sk-toggleable__control sk-hidden--visually\" id=\"sk-estimator-id-4\" type=\"checkbox\" ><label for=\"sk-estimator-id-4\" class=\"sk-toggleable__label sk-toggleable__label-arrow\">LogisticRegression</label><div class=\"sk-toggleable__content\"><pre>LogisticRegression(max_iter=10000)</pre></div></div></div></div></div></div></div></div></div></div>"
      ],
      "text/plain": [
       "GridSearchCV(cv=5, estimator=LogisticRegression(max_iter=10000),\n",
       "             param_grid={'C': [0.001, 0.01, 0.1, 1, 10, 100]})"
      ]
     },
     "execution_count": 36,
     "metadata": {},
     "output_type": "execute_result"
    }
   ],
   "source": [
    "from sklearn.model_selection import GridSearchCV\n",
    "\n",
    "param_grid = {'C': [0.001, 0.01, 0.1, 1, 10, 100]}\n",
    "grid_search = GridSearchCV(LogisticRegression(max_iter=10000), param_grid, cv=5)\n",
    "grid_search.fit(X_train_scaled, y_train)"
   ]
  },
  {
   "cell_type": "code",
   "execution_count": 37,
   "id": "6aa45772",
   "metadata": {
    "execution": {
     "iopub.execute_input": "2023-10-16T13:00:55.098585Z",
     "iopub.status.busy": "2023-10-16T13:00:55.098202Z",
     "iopub.status.idle": "2023-10-16T13:00:55.103864Z",
     "shell.execute_reply": "2023-10-16T13:00:55.102957Z"
    },
    "papermill": {
     "duration": 0.028301,
     "end_time": "2023-10-16T13:00:55.106971",
     "exception": false,
     "start_time": "2023-10-16T13:00:55.078670",
     "status": "completed"
    },
    "tags": []
   },
   "outputs": [
    {
     "name": "stdout",
     "output_type": "stream",
     "text": [
      "{'C': 10}\n",
      "LogisticRegression(C=10, max_iter=10000)\n"
     ]
    }
   ],
   "source": [
    "best_params = grid_search.best_params_\n",
    "print(best_params)\n",
    "best_log_reg = grid_search.best_estimator_\n",
    "print(best_log_reg)"
   ]
  },
  {
   "cell_type": "code",
   "execution_count": 38,
   "id": "5f262c4a",
   "metadata": {
    "execution": {
     "iopub.execute_input": "2023-10-16T13:00:55.136314Z",
     "iopub.status.busy": "2023-10-16T13:00:55.135965Z",
     "iopub.status.idle": "2023-10-16T13:00:55.191829Z",
     "shell.execute_reply": "2023-10-16T13:00:55.191004Z"
    },
    "papermill": {
     "duration": 0.073448,
     "end_time": "2023-10-16T13:00:55.194255",
     "exception": false,
     "start_time": "2023-10-16T13:00:55.120807",
     "status": "completed"
    },
    "tags": []
   },
   "outputs": [
    {
     "name": "stdout",
     "output_type": "stream",
     "text": [
      "Logistic Regression with GS f1 score: 0.934963080388803\n"
     ]
    }
   ],
   "source": [
    "y_pred = best_log_reg.predict(X_test_tfidf)\n",
    "f1_gs_log = f1_score(y_test, y_pred)\n",
    "print(\"Logistic Regression with GS f1 score:\", f1_gs_log)"
   ]
  },
  {
   "cell_type": "code",
   "execution_count": 39,
   "id": "13c1ec8d",
   "metadata": {
    "execution": {
     "iopub.execute_input": "2023-10-16T13:00:55.225177Z",
     "iopub.status.busy": "2023-10-16T13:00:55.224756Z",
     "iopub.status.idle": "2023-10-16T13:00:55.229106Z",
     "shell.execute_reply": "2023-10-16T13:00:55.227811Z"
    },
    "papermill": {
     "duration": 0.022193,
     "end_time": "2023-10-16T13:00:55.231338",
     "exception": false,
     "start_time": "2023-10-16T13:00:55.209145",
     "status": "completed"
    },
    "tags": []
   },
   "outputs": [],
   "source": [
    "# # PREDICTION ON joined_data AND f1 SCORE\n",
    "# y_pred_log_reg = log_reg.predict(X_test_tfidf)\n",
    "# f1_log_reg = f1_score(y_test, y_pred_log_reg)\n",
    "# print(\"Logistic Regression f1 score:\", f1_log_reg)"
   ]
  },
  {
   "cell_type": "markdown",
   "id": "c476f00a",
   "metadata": {
    "papermill": {
     "duration": 0.01361,
     "end_time": "2023-10-16T13:00:55.259078",
     "exception": false,
     "start_time": "2023-10-16T13:00:55.245468",
     "status": "completed"
    },
    "tags": []
   },
   "source": [
    "# *MODEL 3 (Random Forest Classifier)*"
   ]
  },
  {
   "cell_type": "code",
   "execution_count": 40,
   "id": "07ad10fe",
   "metadata": {
    "execution": {
     "iopub.execute_input": "2023-10-16T13:00:55.289204Z",
     "iopub.status.busy": "2023-10-16T13:00:55.288810Z",
     "iopub.status.idle": "2023-10-16T13:33:16.926227Z",
     "shell.execute_reply": "2023-10-16T13:33:16.925007Z"
    },
    "papermill": {
     "duration": 1941.669933,
     "end_time": "2023-10-16T13:33:16.943624",
     "exception": false,
     "start_time": "2023-10-16T13:00:55.273691",
     "status": "completed"
    },
    "tags": []
   },
   "outputs": [
    {
     "data": {
      "text/html": [
       "<style>#sk-container-id-3 {color: black;background-color: white;}#sk-container-id-3 pre{padding: 0;}#sk-container-id-3 div.sk-toggleable {background-color: white;}#sk-container-id-3 label.sk-toggleable__label {cursor: pointer;display: block;width: 100%;margin-bottom: 0;padding: 0.3em;box-sizing: border-box;text-align: center;}#sk-container-id-3 label.sk-toggleable__label-arrow:before {content: \"▸\";float: left;margin-right: 0.25em;color: #696969;}#sk-container-id-3 label.sk-toggleable__label-arrow:hover:before {color: black;}#sk-container-id-3 div.sk-estimator:hover label.sk-toggleable__label-arrow:before {color: black;}#sk-container-id-3 div.sk-toggleable__content {max-height: 0;max-width: 0;overflow: hidden;text-align: left;background-color: #f0f8ff;}#sk-container-id-3 div.sk-toggleable__content pre {margin: 0.2em;color: black;border-radius: 0.25em;background-color: #f0f8ff;}#sk-container-id-3 input.sk-toggleable__control:checked~div.sk-toggleable__content {max-height: 200px;max-width: 100%;overflow: auto;}#sk-container-id-3 input.sk-toggleable__control:checked~label.sk-toggleable__label-arrow:before {content: \"▾\";}#sk-container-id-3 div.sk-estimator input.sk-toggleable__control:checked~label.sk-toggleable__label {background-color: #d4ebff;}#sk-container-id-3 div.sk-label input.sk-toggleable__control:checked~label.sk-toggleable__label {background-color: #d4ebff;}#sk-container-id-3 input.sk-hidden--visually {border: 0;clip: rect(1px 1px 1px 1px);clip: rect(1px, 1px, 1px, 1px);height: 1px;margin: -1px;overflow: hidden;padding: 0;position: absolute;width: 1px;}#sk-container-id-3 div.sk-estimator {font-family: monospace;background-color: #f0f8ff;border: 1px dotted black;border-radius: 0.25em;box-sizing: border-box;margin-bottom: 0.5em;}#sk-container-id-3 div.sk-estimator:hover {background-color: #d4ebff;}#sk-container-id-3 div.sk-parallel-item::after {content: \"\";width: 100%;border-bottom: 1px solid gray;flex-grow: 1;}#sk-container-id-3 div.sk-label:hover label.sk-toggleable__label {background-color: #d4ebff;}#sk-container-id-3 div.sk-serial::before {content: \"\";position: absolute;border-left: 1px solid gray;box-sizing: border-box;top: 0;bottom: 0;left: 50%;z-index: 0;}#sk-container-id-3 div.sk-serial {display: flex;flex-direction: column;align-items: center;background-color: white;padding-right: 0.2em;padding-left: 0.2em;position: relative;}#sk-container-id-3 div.sk-item {position: relative;z-index: 1;}#sk-container-id-3 div.sk-parallel {display: flex;align-items: stretch;justify-content: center;background-color: white;position: relative;}#sk-container-id-3 div.sk-item::before, #sk-container-id-3 div.sk-parallel-item::before {content: \"\";position: absolute;border-left: 1px solid gray;box-sizing: border-box;top: 0;bottom: 0;left: 50%;z-index: -1;}#sk-container-id-3 div.sk-parallel-item {display: flex;flex-direction: column;z-index: 1;position: relative;background-color: white;}#sk-container-id-3 div.sk-parallel-item:first-child::after {align-self: flex-end;width: 50%;}#sk-container-id-3 div.sk-parallel-item:last-child::after {align-self: flex-start;width: 50%;}#sk-container-id-3 div.sk-parallel-item:only-child::after {width: 0;}#sk-container-id-3 div.sk-dashed-wrapped {border: 1px dashed gray;margin: 0 0.4em 0.5em 0.4em;box-sizing: border-box;padding-bottom: 0.4em;background-color: white;}#sk-container-id-3 div.sk-label label {font-family: monospace;font-weight: bold;display: inline-block;line-height: 1.2em;}#sk-container-id-3 div.sk-label-container {text-align: center;}#sk-container-id-3 div.sk-container {/* jupyter's `normalize.less` sets `[hidden] { display: none; }` but bootstrap.min.css set `[hidden] { display: none !important; }` so we also need the `!important` here to be able to override the default hidden behavior on the sphinx rendered scikit-learn.org. See: https://github.com/scikit-learn/scikit-learn/issues/21755 */display: inline-block !important;position: relative;}#sk-container-id-3 div.sk-text-repr-fallback {display: none;}</style><div id=\"sk-container-id-3\" class=\"sk-top-container\"><div class=\"sk-text-repr-fallback\"><pre>RandomForestClassifier(random_state=42)</pre><b>In a Jupyter environment, please rerun this cell to show the HTML representation or trust the notebook. <br />On GitHub, the HTML representation is unable to render, please try loading this page with nbviewer.org.</b></div><div class=\"sk-container\" hidden><div class=\"sk-item\"><div class=\"sk-estimator sk-toggleable\"><input class=\"sk-toggleable__control sk-hidden--visually\" id=\"sk-estimator-id-5\" type=\"checkbox\" checked><label for=\"sk-estimator-id-5\" class=\"sk-toggleable__label sk-toggleable__label-arrow\">RandomForestClassifier</label><div class=\"sk-toggleable__content\"><pre>RandomForestClassifier(random_state=42)</pre></div></div></div></div></div>"
      ],
      "text/plain": [
       "RandomForestClassifier(random_state=42)"
      ]
     },
     "execution_count": 40,
     "metadata": {},
     "output_type": "execute_result"
    }
   ],
   "source": [
    "# RANDOMFOREST CLASSIFIER\n",
    "rf_clf = RandomForestClassifier(n_estimators=100, random_state=42)  \n",
    "rf_clf.fit(X_train_tfidf, y_train)"
   ]
  },
  {
   "cell_type": "code",
   "execution_count": 41,
   "id": "95e5650e",
   "metadata": {
    "execution": {
     "iopub.execute_input": "2023-10-16T13:33:16.975630Z",
     "iopub.status.busy": "2023-10-16T13:33:16.975223Z",
     "iopub.status.idle": "2023-10-16T13:33:32.050835Z",
     "shell.execute_reply": "2023-10-16T13:33:32.049612Z"
    },
    "papermill": {
     "duration": 15.094432,
     "end_time": "2023-10-16T13:33:32.052857",
     "exception": false,
     "start_time": "2023-10-16T13:33:16.958425",
     "status": "completed"
    },
    "tags": []
   },
   "outputs": [
    {
     "name": "stdout",
     "output_type": "stream",
     "text": [
      "Random Forest f1 Score: 0.9435817665359124\n"
     ]
    }
   ],
   "source": [
    "# PREDICTION AND f1 SCORE\n",
    "y_pred_rf = rf_clf.predict(X_test_tfidf)\n",
    "f1_rf = f1_score(y_test, y_pred_rf)\n",
    "print(\"Random Forest f1 Score:\",f1_rf)"
   ]
  },
  {
   "cell_type": "markdown",
   "id": "fcc2db06",
   "metadata": {
    "papermill": {
     "duration": 0.014471,
     "end_time": "2023-10-16T13:33:32.081836",
     "exception": false,
     "start_time": "2023-10-16T13:33:32.067365",
     "status": "completed"
    },
    "tags": []
   },
   "source": [
    "# *MODEL 4 (SVC)*"
   ]
  },
  {
   "cell_type": "code",
   "execution_count": 42,
   "id": "2c907477",
   "metadata": {
    "execution": {
     "iopub.execute_input": "2023-10-16T13:33:32.113109Z",
     "iopub.status.busy": "2023-10-16T13:33:32.112711Z",
     "iopub.status.idle": "2023-10-16T13:33:32.117330Z",
     "shell.execute_reply": "2023-10-16T13:33:32.115987Z"
    },
    "papermill": {
     "duration": 0.023202,
     "end_time": "2023-10-16T13:33:32.119460",
     "exception": false,
     "start_time": "2023-10-16T13:33:32.096258",
     "status": "completed"
    },
    "tags": []
   },
   "outputs": [],
   "source": [
    "# svm_model = SVC(kernel='linear', C=1.0)  \n",
    "# svm_model.fit(X_train_tfidf, y_train)"
   ]
  },
  {
   "cell_type": "code",
   "execution_count": 43,
   "id": "ebeb3031",
   "metadata": {
    "execution": {
     "iopub.execute_input": "2023-10-16T13:33:32.150375Z",
     "iopub.status.busy": "2023-10-16T13:33:32.149739Z",
     "iopub.status.idle": "2023-10-16T13:33:32.153518Z",
     "shell.execute_reply": "2023-10-16T13:33:32.152755Z"
    },
    "papermill": {
     "duration": 0.021331,
     "end_time": "2023-10-16T13:33:32.155418",
     "exception": false,
     "start_time": "2023-10-16T13:33:32.134087",
     "status": "completed"
    },
    "tags": []
   },
   "outputs": [],
   "source": [
    "# y_pred_svm = svm_model.predict(X_test_tfidf)\n",
    "# f1_svm = f1_score(y_test, y_pred_svm)\n",
    "# print(\"SVM f1 Score:\", f1_svm)"
   ]
  },
  {
   "cell_type": "markdown",
   "id": "939b6213",
   "metadata": {
    "papermill": {
     "duration": 0.014167,
     "end_time": "2023-10-16T13:33:32.184644",
     "exception": false,
     "start_time": "2023-10-16T13:33:32.170477",
     "status": "completed"
    },
    "tags": []
   },
   "source": [
    "# **4. Predicting test results**"
   ]
  },
  {
   "cell_type": "markdown",
   "id": "741b8f70",
   "metadata": {
    "papermill": {
     "duration": 0.014266,
     "end_time": "2023-10-16T13:33:32.213150",
     "exception": false,
     "start_time": "2023-10-16T13:33:32.198884",
     "status": "completed"
    },
    "tags": []
   },
   "source": [
    "# *LOADING test.csv*"
   ]
  },
  {
   "cell_type": "code",
   "execution_count": 44,
   "id": "55b97b64",
   "metadata": {
    "execution": {
     "iopub.execute_input": "2023-10-16T13:33:32.244045Z",
     "iopub.status.busy": "2023-10-16T13:33:32.243393Z",
     "iopub.status.idle": "2023-10-16T13:33:32.559822Z",
     "shell.execute_reply": "2023-10-16T13:33:32.558608Z"
    },
    "papermill": {
     "duration": 0.334605,
     "end_time": "2023-10-16T13:33:32.562114",
     "exception": false,
     "start_time": "2023-10-16T13:33:32.227509",
     "status": "completed"
    },
    "tags": []
   },
   "outputs": [
    {
     "data": {
      "text/plain": [
       "(55315, 4)"
      ]
     },
     "execution_count": 44,
     "metadata": {},
     "output_type": "execute_result"
    }
   ],
   "source": [
    "#LOADING test.csv file\n",
    "test_data_path='/kaggle/input/sentiment-prediction-on-movie-reviews-term-break1/test.csv (1)/test.csv'\n",
    "test_data=pd.read_csv(test_data_path) \n",
    "\n",
    "#SHAPE OF test.csv\n",
    "test_data.shape"
   ]
  },
  {
   "cell_type": "code",
   "execution_count": 45,
   "id": "35245d4b",
   "metadata": {
    "execution": {
     "iopub.execute_input": "2023-10-16T13:33:32.593475Z",
     "iopub.status.busy": "2023-10-16T13:33:32.593096Z",
     "iopub.status.idle": "2023-10-16T13:33:32.611288Z",
     "shell.execute_reply": "2023-10-16T13:33:32.610021Z"
    },
    "papermill": {
     "duration": 0.036379,
     "end_time": "2023-10-16T13:33:32.613606",
     "exception": false,
     "start_time": "2023-10-16T13:33:32.577227",
     "status": "completed"
    },
    "tags": []
   },
   "outputs": [
    {
     "data": {
      "text/plain": [
       "movieid            0\n",
       "reviewerName       0\n",
       "isTopCritic        0\n",
       "reviewText      2510\n",
       "dtype: int64"
      ]
     },
     "execution_count": 45,
     "metadata": {},
     "output_type": "execute_result"
    }
   ],
   "source": [
    "#SEARCHING FOR NULL VALUES\n",
    "test_data.isnull().sum()"
   ]
  },
  {
   "cell_type": "code",
   "execution_count": 46,
   "id": "c1c0f2de",
   "metadata": {
    "execution": {
     "iopub.execute_input": "2023-10-16T13:33:32.645143Z",
     "iopub.status.busy": "2023-10-16T13:33:32.644738Z",
     "iopub.status.idle": "2023-10-16T13:33:32.656329Z",
     "shell.execute_reply": "2023-10-16T13:33:32.654985Z"
    },
    "papermill": {
     "duration": 0.029831,
     "end_time": "2023-10-16T13:33:32.658536",
     "exception": false,
     "start_time": "2023-10-16T13:33:32.628705",
     "status": "completed"
    },
    "tags": []
   },
   "outputs": [],
   "source": [
    "#IMPUTING NULL VALUES IN test.csv AS BLANK SPACE\n",
    "test_data['reviewText'].fillna('', inplace=True)"
   ]
  },
  {
   "cell_type": "markdown",
   "id": "f9a66615",
   "metadata": {
    "papermill": {
     "duration": 0.014606,
     "end_time": "2023-10-16T13:33:32.687966",
     "exception": false,
     "start_time": "2023-10-16T13:33:32.673360",
     "status": "completed"
    },
    "tags": []
   },
   "source": [
    "# *PREDICTION ON test.csv*"
   ]
  },
  {
   "cell_type": "markdown",
   "id": "da6e7bbc",
   "metadata": {
    "papermill": {
     "duration": 0.01391,
     "end_time": "2023-10-16T13:33:32.716163",
     "exception": false,
     "start_time": "2023-10-16T13:33:32.702253",
     "status": "completed"
    },
    "tags": []
   },
   "source": [
    "***PREDICTION ON DUMMY CLASSIFIER (Score = 0.66846)***"
   ]
  },
  {
   "cell_type": "code",
   "execution_count": 47,
   "id": "c157ff4a",
   "metadata": {
    "execution": {
     "iopub.execute_input": "2023-10-16T13:33:32.746472Z",
     "iopub.status.busy": "2023-10-16T13:33:32.746110Z",
     "iopub.status.idle": "2023-10-16T13:33:32.750618Z",
     "shell.execute_reply": "2023-10-16T13:33:32.749158Z"
    },
    "papermill": {
     "duration": 0.022504,
     "end_time": "2023-10-16T13:33:32.752846",
     "exception": false,
     "start_time": "2023-10-16T13:33:32.730342",
     "status": "completed"
    },
    "tags": []
   },
   "outputs": [],
   "source": [
    "# #PREDICTION on test.csv\n",
    "# X_test_tfidf = tfidf_vectorizer.transform(test_data['reviewText'])\n",
    "# y_test_pred = dummy_clf.predict(X_test_tfidf)\n",
    "# # test_data['predicted_sentiment'] = y_test_pred.map({1: 'positive', 0: 'negative'})\n",
    "\n",
    "# predicted_labels = np.where(y_test_pred == 1, 'POSITIVE', 'NEGATIVE')\n",
    "\n",
    "# test_data['predicted_sentiment'] = predicted_labels"
   ]
  },
  {
   "cell_type": "markdown",
   "id": "5b151a91",
   "metadata": {
    "papermill": {
     "duration": 0.014355,
     "end_time": "2023-10-16T13:33:32.782008",
     "exception": false,
     "start_time": "2023-10-16T13:33:32.767653",
     "status": "completed"
    },
    "tags": []
   },
   "source": [
    "***PREDICTION USING LOGISTIC REGRESSION (Score = 0.79211)***"
   ]
  },
  {
   "cell_type": "code",
   "execution_count": 48,
   "id": "85b968f1",
   "metadata": {
    "execution": {
     "iopub.execute_input": "2023-10-16T13:33:32.812601Z",
     "iopub.status.busy": "2023-10-16T13:33:32.812200Z",
     "iopub.status.idle": "2023-10-16T13:33:32.817653Z",
     "shell.execute_reply": "2023-10-16T13:33:32.816208Z"
    },
    "papermill": {
     "duration": 0.023357,
     "end_time": "2023-10-16T13:33:32.819806",
     "exception": false,
     "start_time": "2023-10-16T13:33:32.796449",
     "status": "completed"
    },
    "tags": []
   },
   "outputs": [],
   "source": [
    "# #PREDICTION on test.csv\n",
    "# X_test_tfidf = tfidf_vectorizer.transform(test_data['reviewText'])\n",
    "# y_test_pred = log_reg.predict(X_test_tfidf)\n",
    "# # test_data['predicted_sentiment'] = y_test_pred.map({1: 'positive', 0: 'negative'})\n",
    "\n",
    "# predicted_labels = np.where(y_test_pred == 1, 'POSITIVE', 'NEGATIVE')\n",
    "\n",
    "# test_data['predicted_sentiment'] = predicted_labels"
   ]
  },
  {
   "cell_type": "code",
   "execution_count": 49,
   "id": "4a51e174",
   "metadata": {
    "execution": {
     "iopub.execute_input": "2023-10-16T13:33:32.850856Z",
     "iopub.status.busy": "2023-10-16T13:33:32.849795Z",
     "iopub.status.idle": "2023-10-16T13:33:34.004869Z",
     "shell.execute_reply": "2023-10-16T13:33:34.003732Z"
    },
    "papermill": {
     "duration": 1.173324,
     "end_time": "2023-10-16T13:33:34.007680",
     "exception": false,
     "start_time": "2023-10-16T13:33:32.834356",
     "status": "completed"
    },
    "tags": []
   },
   "outputs": [],
   "source": [
    "#PREDICTION on test.csv\n",
    "X_test_tfidf = tfidf_vectorizer.transform(test_data['reviewText'])\n",
    "y_test_pred = best_log_reg.predict(X_test_tfidf)\n",
    "# test_data['predicted_sentiment'] = y_test_pred.map({1: 'positive', 0: 'negative'})\n",
    "\n",
    "predicted_labels = np.where(y_test_pred == 1, 'POSITIVE', 'NEGATIVE')\n",
    "\n",
    "test_data['predicted_sentiment'] = predicted_labels"
   ]
  },
  {
   "cell_type": "markdown",
   "id": "e166a76e",
   "metadata": {
    "papermill": {
     "duration": 0.014832,
     "end_time": "2023-10-16T13:33:34.037095",
     "exception": false,
     "start_time": "2023-10-16T13:33:34.022263",
     "status": "completed"
    },
    "tags": []
   },
   "source": [
    "***PREDICTION USING RANDOM FOREST CLASSIFIER (Score = 0.73052)***"
   ]
  },
  {
   "cell_type": "code",
   "execution_count": 50,
   "id": "7d2526f0",
   "metadata": {
    "execution": {
     "iopub.execute_input": "2023-10-16T13:33:34.067290Z",
     "iopub.status.busy": "2023-10-16T13:33:34.066862Z",
     "iopub.status.idle": "2023-10-16T13:33:34.071783Z",
     "shell.execute_reply": "2023-10-16T13:33:34.070707Z"
    },
    "papermill": {
     "duration": 0.022768,
     "end_time": "2023-10-16T13:33:34.074108",
     "exception": false,
     "start_time": "2023-10-16T13:33:34.051340",
     "status": "completed"
    },
    "tags": []
   },
   "outputs": [],
   "source": [
    "# #PREDICTION on test.csv\n",
    "# X_test_tfidf = tfidf_vectorizer.transform(test_data['reviewText'])\n",
    "# y_test_pred = rf_clf.predict(X_test_tfidf)\n",
    "# # test_data['predicted_sentiment'] = y_test_pred.map({1: 'positive', 0: 'negative'})\n",
    "\n",
    "# predicted_labels = np.where(y_test_pred == 1, 'POSITIVE', 'NEGATIVE')\n",
    "\n",
    "# test_data['predicted_sentiment'] = predicted_labels"
   ]
  },
  {
   "cell_type": "markdown",
   "id": "03d8e2ff",
   "metadata": {
    "papermill": {
     "duration": 0.014004,
     "end_time": "2023-10-16T13:33:34.102618",
     "exception": false,
     "start_time": "2023-10-16T13:33:34.088614",
     "status": "completed"
    },
    "tags": []
   },
   "source": [
    "# **SUBMISSION**"
   ]
  },
  {
   "cell_type": "code",
   "execution_count": 51,
   "id": "6706926e",
   "metadata": {
    "execution": {
     "iopub.execute_input": "2023-10-16T13:33:34.133286Z",
     "iopub.status.busy": "2023-10-16T13:33:34.132880Z",
     "iopub.status.idle": "2023-10-16T13:33:34.217109Z",
     "shell.execute_reply": "2023-10-16T13:33:34.216012Z"
    },
    "papermill": {
     "duration": 0.102821,
     "end_time": "2023-10-16T13:33:34.220149",
     "exception": false,
     "start_time": "2023-10-16T13:33:34.117328",
     "status": "completed"
    },
    "tags": []
   },
   "outputs": [],
   "source": [
    "submission_df = pd.DataFrame({\n",
    "    'id': range(len(test_data)), \n",
    "    'sentiment': test_data['predicted_sentiment']  \n",
    "})\n",
    "\n",
    "submission_df.to_csv('submission.csv', index=False)"
   ]
  }
 ],
 "metadata": {
  "kernelspec": {
   "display_name": "Python 3",
   "language": "python",
   "name": "python3"
  },
  "language_info": {
   "codemirror_mode": {
    "name": "ipython",
    "version": 3
   },
   "file_extension": ".py",
   "mimetype": "text/x-python",
   "name": "python",
   "nbconvert_exporter": "python",
   "pygments_lexer": "ipython3",
   "version": "3.10.12"
  },
  "papermill": {
   "default_parameters": {},
   "duration": 3733.701783,
   "end_time": "2023-10-16T13:33:35.263887",
   "environment_variables": {},
   "exception": null,
   "input_path": "__notebook__.ipynb",
   "output_path": "__notebook__.ipynb",
   "parameters": {},
   "start_time": "2023-10-16T12:31:21.562104",
   "version": "2.4.0"
  }
 },
 "nbformat": 4,
 "nbformat_minor": 5
}
